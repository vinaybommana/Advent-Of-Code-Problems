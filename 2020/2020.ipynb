{
 "cells": [
  {
   "cell_type": "markdown",
   "metadata": {},
   "source": [
    "# Advent of code Problems 2020"
   ]
  },
  {
   "cell_type": "markdown",
   "metadata": {},
   "source": [
    "# Problem one\n",
    "## Find the sum of 2020 Part 1"
   ]
  },
  {
   "cell_type": "code",
   "execution_count": 151,
   "metadata": {},
   "outputs": [
    {
     "output_type": "stream",
     "name": "stdout",
     "text": [
      "200\n"
     ]
    }
   ],
   "source": [
    "input_list = []\n",
    "with open(\"input_1.txt\") as o:\n",
    "    for line in o:\n",
    "        input_list.append(int(line))\n",
    "print(len(input_list))"
   ]
  },
  {
   "cell_type": "code",
   "execution_count": 152,
   "metadata": {},
   "outputs": [
    {
     "output_type": "stream",
     "name": "stdout",
     "text": [
      "1014171\n"
     ]
    }
   ],
   "source": [
    "for i in input_list:\n",
    "    remaining_number = 2020 - i\n",
    "    if remaining_number in input_list:\n",
    "        print(remaining_number * i)\n",
    "        break\n"
   ]
  },
  {
   "cell_type": "markdown",
   "metadata": {},
   "source": [
    "## Find the sum of 2020 Part 2"
   ]
  },
  {
   "cell_type": "code",
   "execution_count": 153,
   "metadata": {},
   "outputs": [
    {
     "output_type": "stream",
     "name": "stdout",
     "text": [
      "241861950\n"
     ]
    }
   ],
   "source": [
    "test_input = [1721, 979, 366, 299, 675, 1456]\n",
    "# test_input = sorted(input_list)\n",
    "# print(input_list)\n",
    "\n",
    "for id, number in enumerate(test_input):\n",
    "    try:\n",
    "        _sum = test_input[id] + test_input[id+1]\n",
    "        if _sum < 2020:\n",
    "            # print(test_input[id], test_input[id+1])\n",
    "            # print(_sum)\n",
    "            _rem = 2020 - _sum\n",
    "            # print(_rem)\n",
    "            if _rem in test_input:\n",
    "                print(test_input[id] * test_input[id+1] *(_rem))\n",
    "    except IndexError:\n",
    "        pass"
   ]
  },
  {
   "cell_type": "code",
   "execution_count": 154,
   "metadata": {},
   "outputs": [
    {
     "output_type": "stream",
     "name": "stdout",
     "text": [
      "46584630\n46584630\n"
     ]
    }
   ],
   "source": [
    "# _list = [1, 2, 3, 4]\n",
    "test_input = [1721, 979, 366, 299, 675, 1456]\n",
    "# _list = test_input\n",
    "_list = sorted(input_list)\n",
    "# print(_list)\n",
    "try:\n",
    "    for i in range(len(_list)):\n",
    "        for j in range(i, len(_list)):\n",
    "            if i != j:\n",
    "                _sum = _list[i] + _list[j]\n",
    "                if _sum < 2020:\n",
    "                    _rem = 2020 - _sum\n",
    "                    if _rem in _list:\n",
    "                        print(_rem * _list[i] * _list[j])\n",
    "                        break\n",
    "except IndexError:\n",
    "    pass"
   ]
  },
  {
   "cell_type": "markdown",
   "metadata": {},
   "source": [
    "# Problem two\n",
    "## Part one"
   ]
  },
  {
   "cell_type": "code",
   "execution_count": 155,
   "metadata": {
    "tags": []
   },
   "outputs": [],
   "source": [
    "def read_input(file_name):\n",
    "    with open(file_name) as o:\n",
    "        return [line for line in o]\n",
    "\n",
    "input_2 = read_input(\"input_2.txt\")\n",
    "# print(input_2)"
   ]
  },
  {
   "cell_type": "code",
   "execution_count": 156,
   "metadata": {},
   "outputs": [
    {
     "output_type": "stream",
     "name": "stdout",
     "text": [
      "{'min': '1', 'max': '3', 'character': 'a', 'password': 'abcde'}\n{'min': '1', 'max': '3', 'character': 'b', 'password': 'cdefg'}\n{'min': '2', 'max': '9', 'character': 'c', 'password': 'ccccccccc'}\n"
     ]
    }
   ],
   "source": [
    "test_input = [\"1-3 a: abcde\", \"1-3 b: cdefg\", \"2-9 c: ccccccccc\"]\n",
    "\n",
    "def clean_string(_string):\n",
    "    # this cleaning only works for this problem\n",
    "    validity, password = _string.split(\":\")\n",
    "    _vcount = validity.split()[0]\n",
    "    _vmin = _vcount.split(\"-\")[0]\n",
    "    _vmax = _vcount.split(\"-\")[1]\n",
    "    validity_character = validity.split()[1]\n",
    "    return {\"min\": _vmin, \"max\": _vmax, \"character\": validity_character,\"password\": password.strip()}\n",
    "\n",
    "for i in test_input:\n",
    "    print(clean_string(i))\n",
    "\n"
   ]
  },
  {
   "cell_type": "code",
   "execution_count": 157,
   "metadata": {},
   "outputs": [],
   "source": [
    "from collections import Counter\n",
    "\n",
    "def give_valid_passwords(test_input):\n",
    "    valid_passwords = 0\n",
    "    for i in test_input:\n",
    "        _counter = Counter(clean_string(i).get(\"password\"))\n",
    "        character = clean_string(i).get(\"character\")\n",
    "        min = int(clean_string(i).get(\"min\"))\n",
    "        max = int(clean_string(i).get(\"max\"))\n",
    "        try:\n",
    "            character_count = int(_counter.get(character))\n",
    "        except TypeError:\n",
    "            character_count = 0\n",
    "        # print(character_count, min, max)\n",
    "        if character_count != 0 and (min <= character_count <= max):\n",
    "            valid_passwords += 1\n",
    "\n",
    "    return valid_passwords"
   ]
  },
  {
   "cell_type": "code",
   "execution_count": 158,
   "metadata": {},
   "outputs": [
    {
     "output_type": "stream",
     "name": "stdout",
     "text": [
      "548\n"
     ]
    }
   ],
   "source": [
    "test_output = give_valid_passwords(test_input)\n",
    "_problem_output = give_valid_passwords(input_2)\n",
    "# print(output)\n",
    "print(_problem_output)"
   ]
  },
  {
   "cell_type": "markdown",
   "metadata": {},
   "source": [
    "## Part two\n",
    "\n",
    "New password policy is such that\n",
    "the character representation should match the string representation\n",
    "1-3 a --> should contain a in 1 and 3 positions of `password`"
   ]
  },
  {
   "cell_type": "code",
   "execution_count": 159,
   "metadata": {},
   "outputs": [],
   "source": [
    "def new_password_policy(_input):\n",
    "    valid_passwords = 0\n",
    "    for i in _input:\n",
    "        _clean_string = clean_string(i)\n",
    "        _counter = Counter(_clean_string.get(\"password\"))\n",
    "        min = int(_clean_string.get(\"min\")) - 1\n",
    "        max = int(_clean_string.get(\"max\")) - 1 \n",
    "        character = _clean_string.get(\"character\")\n",
    "        password = _clean_string.get(\"password\")\n",
    "        if password[min] == character and password[max] != character:\n",
    "            valid_passwords += 1\n",
    "        elif password[min] != character and password[max] == character:\n",
    "            valid_passwords += 1\n",
    "    return valid_passwords"
   ]
  },
  {
   "cell_type": "code",
   "execution_count": 160,
   "metadata": {},
   "outputs": [
    {
     "output_type": "stream",
     "name": "stdout",
     "text": [
      "502\n"
     ]
    }
   ],
   "source": [
    "test_output = new_password_policy(test_input)\n",
    "# print(test_output)\n",
    "problem_output = new_password_policy(input_2)\n",
    "print(problem_output)"
   ]
  },
  {
   "cell_type": "markdown",
   "metadata": {},
   "source": [
    "# Problem three\n",
    "\n",
    "## Part one"
   ]
  },
  {
   "cell_type": "code",
   "execution_count": 161,
   "metadata": {},
   "outputs": [],
   "source": [
    "input_3 = read_input(\"input_3.txt\")\n",
    "test_input = \"\"\"\n",
    "..##.......\n",
    "#...#...#..\n",
    ".#....#..#.\n",
    "..#.#...#.#\n",
    ".#...##..#.\n",
    "..#.##.....\n",
    ".#.#.#....#\n",
    ".#........#\n",
    "#.##...#...\n",
    "#...##....#\n",
    ".#..#...#.#\n",
    "\"\"\""
   ]
  },
  {
   "cell_type": "code",
   "execution_count": 162,
   "metadata": {},
   "outputs": [],
   "source": [
    "_test_input = test_input.split()\n",
    "coordinate_matrix = []\n",
    "\n",
    "def convert_input_to_matrix(_input):\n",
    "    coordinate_matrix = []\n",
    "    for i, line in enumerate(_input):\n",
    "        coordinate_row = []\n",
    "        for j, item in enumerate(line):\n",
    "            coordinate_row.append((i, j, item))\n",
    "        coordinate_matrix.append(coordinate_row)\n",
    "    return coordinate_matrix\n",
    "\n",
    "def print_matrix(matrix):\n",
    "    for i, row in enumerate(matrix):\n",
    "        for j, item in enumerate(row):\n",
    "            print(item, end=\"\")\n",
    "        print()\n",
    "\n",
    "coordinate_matrix = convert_input_to_matrix(_test_input)\n",
    "# print_matrix(coordinate_matrix)"
   ]
  },
  {
   "source": [
    "add `(1, 3)` to every element in the row until `row` number equal to the end i.e., until the loop ends\n",
    "<br />\n",
    "if `col` number is greater than `len` of loop column number i.e., number of columns in the input field <br />\n",
    "`j = j % column_number`"
   ],
   "cell_type": "markdown",
   "metadata": {}
  },
  {
   "cell_type": "code",
   "execution_count": 163,
   "metadata": {
    "tags": []
   },
   "outputs": [
    {
     "output_type": "stream",
     "name": "stdout",
     "text": [
      "7\n"
     ]
    }
   ],
   "source": [
    "add_coordinates = (1, 3)\n",
    "def slide_down(matrix, slope):\n",
    "    i = 0; j = 0\n",
    "    obstacles = 0\n",
    "    # print(len(coordinate_matrix), len(coordinate_matrix[0]))\n",
    "    while i < len(matrix) - 1:\n",
    "        i += slope[0]\n",
    "        j += slope[1]\n",
    "        # print(len(matrix[0]))\n",
    "        if j > (len(matrix[0]) - 1):\n",
    "            j = j % len(matrix[0])\n",
    "        # print(matrix[i][j])\n",
    "        _i, _j, element = matrix[i][j]\n",
    "        # print(element, end=\"\")\n",
    "        if element == \"#\":\n",
    "            obstacles += 1\n",
    "    return obstacles\n",
    "\n",
    "# print(len(coordinate_matrix[0]))\n",
    "print(slide_down(coordinate_matrix, add_coordinates))"
   ]
  },
  {
   "cell_type": "code",
   "execution_count": 164,
   "metadata": {
    "tags": []
   },
   "outputs": [
    {
     "output_type": "stream",
     "name": "stdout",
     "text": [
      "282\n"
     ]
    }
   ],
   "source": [
    "problem_input = []\n",
    "input_3 = read_input(\"input_3.txt\")\n",
    "for line in input_3:\n",
    "    problem_input.append(line.strip())\n",
    "\n",
    "input_matrix = convert_input_to_matrix(problem_input)\n",
    "print(slide_down(input_matrix, add_coordinates))\n",
    "# print_matrix(input_matrix)"
   ]
  },
  {
   "source": [
    "## Part two\n",
    "Given no of slopes, find the number of trees encountered for the slope\n",
    "give the answer by multiplying all of them"
   ],
   "cell_type": "markdown",
   "metadata": {}
  },
  {
   "cell_type": "code",
   "execution_count": 165,
   "metadata": {},
   "outputs": [
    {
     "output_type": "stream",
     "name": "stdout",
     "text": [
      "958815792\n"
     ]
    }
   ],
   "source": [
    "slopes = [(1, 1), (1, 3), (1, 5), (1, 7), (2, 1)]\n",
    "\n",
    "def listed_slopes_slide(matrix, slopes):\n",
    "    multiplied_output = 1\n",
    "\n",
    "    for _slope in slopes:\n",
    "        multiplied_output *= slide_down(matrix, _slope)\n",
    "    return multiplied_output\n",
    "\n",
    "print(listed_slopes_slide(input_matrix, slopes))"
   ]
  }
 ],
 "metadata": {
  "kernelspec": {
   "display_name": "Python 3",
   "name": "python3"
  },
  "language_info": {
   "codemirror_mode": {
    "name": "ipython",
    "version": 3
   },
   "file_extension": ".py",
   "mimetype": "text/x-python",
   "name": "python",
   "nbconvert_exporter": "python",
   "pygments_lexer": "ipython3",
   "version": "3.7.7-final"
  },
  "orig_nbformat": 2
 },
 "nbformat": 4,
 "nbformat_minor": 2
}