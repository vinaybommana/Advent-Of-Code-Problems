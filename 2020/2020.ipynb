{
 "cells": [
  {
   "cell_type": "markdown",
   "metadata": {},
   "source": [
    "# Advent of code Problems 2020"
   ]
  },
  {
   "cell_type": "markdown",
   "metadata": {},
   "source": [
    "# Problem one\n",
    "## Find the sum of 2020 Part 1"
   ]
  },
  {
   "cell_type": "code",
   "execution_count": 1,
   "metadata": {},
   "outputs": [
    {
     "output_type": "stream",
     "name": "stdout",
     "text": [
      "200\n"
     ]
    }
   ],
   "source": [
    "input_list = []\n",
    "with open(\"input_1.txt\") as o:\n",
    "    for line in o:\n",
    "        input_list.append(int(line))\n",
    "print(len(input_list))"
   ]
  },
  {
   "cell_type": "code",
   "execution_count": 2,
   "metadata": {},
   "outputs": [
    {
     "output_type": "stream",
     "name": "stdout",
     "text": [
      "1014171\n"
     ]
    }
   ],
   "source": [
    "for i in input_list:\n",
    "    remaining_number = 2020 - i\n",
    "    if remaining_number in input_list:\n",
    "        print(remaining_number * i)\n",
    "        break\n"
   ]
  },
  {
   "cell_type": "markdown",
   "metadata": {},
   "source": [
    "## Find the sum of 2020 Part 2"
   ]
  },
  {
   "cell_type": "code",
   "execution_count": 3,
   "metadata": {},
   "outputs": [
    {
     "output_type": "stream",
     "name": "stdout",
     "text": [
      "241861950\n"
     ]
    }
   ],
   "source": [
    "test_input = [1721, 979, 366, 299, 675, 1456]\n",
    "# test_input = sorted(input_list)\n",
    "# print(input_list)\n",
    "\n",
    "for id, number in enumerate(test_input):\n",
    "    try:\n",
    "        _sum = test_input[id] + test_input[id+1]\n",
    "        if _sum < 2020:\n",
    "            # print(test_input[id], test_input[id+1])\n",
    "            # print(_sum)\n",
    "            _rem = 2020 - _sum\n",
    "            # print(_rem)\n",
    "            if _rem in test_input:\n",
    "                print(test_input[id] * test_input[id+1] *(_rem))\n",
    "    except IndexError:\n",
    "        pass"
   ]
  },
  {
   "cell_type": "code",
   "execution_count": 4,
   "metadata": {},
   "outputs": [
    {
     "output_type": "stream",
     "name": "stdout",
     "text": [
      "46584630\n46584630\n"
     ]
    }
   ],
   "source": [
    "# _list = [1, 2, 3, 4]\n",
    "test_input = [1721, 979, 366, 299, 675, 1456]\n",
    "# _list = test_input\n",
    "_list = sorted(input_list)\n",
    "# print(_list)\n",
    "try:\n",
    "    for i in range(len(_list)):\n",
    "        for j in range(i, len(_list)):\n",
    "            if i != j:\n",
    "                _sum = _list[i] + _list[j]\n",
    "                if _sum < 2020:\n",
    "                    _rem = 2020 - _sum\n",
    "                    if _rem in _list:\n",
    "                        print(_rem * _list[i] * _list[j])\n",
    "                        break\n",
    "except IndexError:\n",
    "    pass"
   ]
  },
  {
   "cell_type": "markdown",
   "metadata": {},
   "source": [
    "# Problem two\n",
    "## Part one"
   ]
  },
  {
   "cell_type": "code",
   "execution_count": 5,
   "metadata": {
    "tags": []
   },
   "outputs": [],
   "source": [
    "def read_input(file_name):\n",
    "    with open(file_name) as o:\n",
    "        return [line for line in o]\n",
    "\n",
    "input_2 = read_input(\"input_2.txt\")\n",
    "# print(input_2)"
   ]
  },
  {
   "cell_type": "code",
   "execution_count": 6,
   "metadata": {},
   "outputs": [
    {
     "output_type": "stream",
     "name": "stdout",
     "text": [
      "{'min': '1', 'max': '3', 'character': 'a', 'password': 'abcde'}\n{'min': '1', 'max': '3', 'character': 'b', 'password': 'cdefg'}\n{'min': '2', 'max': '9', 'character': 'c', 'password': 'ccccccccc'}\n"
     ]
    }
   ],
   "source": [
    "test_input = [\"1-3 a: abcde\", \"1-3 b: cdefg\", \"2-9 c: ccccccccc\"]\n",
    "\n",
    "def clean_string(_string):\n",
    "    # this cleaning only works for this problem\n",
    "    validity, password = _string.split(\":\")\n",
    "    _vcount = validity.split()[0]\n",
    "    _vmin = _vcount.split(\"-\")[0]\n",
    "    _vmax = _vcount.split(\"-\")[1]\n",
    "    validity_character = validity.split()[1]\n",
    "    return {\"min\": _vmin, \"max\": _vmax, \"character\": validity_character,\"password\": password.strip()}\n",
    "\n",
    "for i in test_input:\n",
    "    print(clean_string(i))\n",
    "\n"
   ]
  },
  {
   "cell_type": "code",
   "execution_count": 7,
   "metadata": {},
   "outputs": [],
   "source": [
    "from collections import Counter\n",
    "\n",
    "def give_valid_passwords(test_input):\n",
    "    valid_passwords = 0\n",
    "    for i in test_input:\n",
    "        _counter = Counter(clean_string(i).get(\"password\"))\n",
    "        character = clean_string(i).get(\"character\")\n",
    "        min = int(clean_string(i).get(\"min\"))\n",
    "        max = int(clean_string(i).get(\"max\"))\n",
    "        try:\n",
    "            character_count = int(_counter.get(character))\n",
    "        except TypeError:\n",
    "            character_count = 0\n",
    "        # print(character_count, min, max)\n",
    "        if character_count != 0 and (min <= character_count <= max):\n",
    "            valid_passwords += 1\n",
    "\n",
    "    return valid_passwords"
   ]
  },
  {
   "cell_type": "code",
   "execution_count": 8,
   "metadata": {},
   "outputs": [
    {
     "output_type": "stream",
     "name": "stdout",
     "text": [
      "548\n"
     ]
    }
   ],
   "source": [
    "test_output = give_valid_passwords(test_input)\n",
    "_problem_output = give_valid_passwords(input_2)\n",
    "# print(output)\n",
    "print(_problem_output)"
   ]
  },
  {
   "cell_type": "markdown",
   "metadata": {},
   "source": [
    "## Part two\n",
    "\n",
    "New password policy is such that\n",
    "the character representation should match the string representation\n",
    "1-3 a --> should contain a in 1 and 3 positions of `password`"
   ]
  },
  {
   "cell_type": "code",
   "execution_count": 9,
   "metadata": {},
   "outputs": [],
   "source": [
    "def new_password_policy(_input):\n",
    "    valid_passwords = 0\n",
    "    for i in _input:\n",
    "        _clean_string = clean_string(i)\n",
    "        _counter = Counter(_clean_string.get(\"password\"))\n",
    "        min = int(_clean_string.get(\"min\")) - 1\n",
    "        max = int(_clean_string.get(\"max\")) - 1 \n",
    "        character = _clean_string.get(\"character\")\n",
    "        password = _clean_string.get(\"password\")\n",
    "        if password[min] == character and password[max] != character:\n",
    "            valid_passwords += 1\n",
    "        elif password[min] != character and password[max] == character:\n",
    "            valid_passwords += 1\n",
    "    return valid_passwords"
   ]
  },
  {
   "cell_type": "code",
   "execution_count": 10,
   "metadata": {},
   "outputs": [
    {
     "output_type": "stream",
     "name": "stdout",
     "text": [
      "502\n"
     ]
    }
   ],
   "source": [
    "test_output = new_password_policy(test_input)\n",
    "# print(test_output)\n",
    "problem_output = new_password_policy(input_2)\n",
    "print(problem_output)"
   ]
  },
  {
   "cell_type": "markdown",
   "metadata": {},
   "source": [
    "# Problem three\n",
    "\n",
    "## Part one"
   ]
  },
  {
   "cell_type": "code",
   "execution_count": 11,
   "metadata": {},
   "outputs": [],
   "source": [
    "input_3 = read_input(\"input_3.txt\")\n",
    "test_input = \"\"\"\n",
    "..##.......\n",
    "#...#...#..\n",
    ".#....#..#.\n",
    "..#.#...#.#\n",
    ".#...##..#.\n",
    "..#.##.....\n",
    ".#.#.#....#\n",
    ".#........#\n",
    "#.##...#...\n",
    "#...##....#\n",
    ".#..#...#.#\n",
    "\"\"\""
   ]
  },
  {
   "cell_type": "code",
   "execution_count": 12,
   "metadata": {},
   "outputs": [],
   "source": [
    "_test_input = test_input.split()\n",
    "coordinate_matrix = []\n",
    "\n",
    "def convert_input_to_matrix(_input):\n",
    "    coordinate_matrix = []\n",
    "    for i, line in enumerate(_input):\n",
    "        coordinate_row = []\n",
    "        for j, item in enumerate(line):\n",
    "            coordinate_row.append((i, j, item))\n",
    "        coordinate_matrix.append(coordinate_row)\n",
    "    return coordinate_matrix\n",
    "\n",
    "def print_matrix(matrix):\n",
    "    for i, row in enumerate(matrix):\n",
    "        for j, item in enumerate(row):\n",
    "            print(item, end=\"\")\n",
    "        print()\n",
    "\n",
    "coordinate_matrix = convert_input_to_matrix(_test_input)\n",
    "# print_matrix(coordinate_matrix)"
   ]
  },
  {
   "source": [
    "add `(1, 3)` to every element in the row until `row` number equal to the end i.e., until the loop ends\n",
    "<br />\n",
    "if `col` number is greater than `len` of loop column number i.e., number of columns in the input field <br />\n",
    "`j = j % column_number`"
   ],
   "cell_type": "markdown",
   "metadata": {}
  },
  {
   "cell_type": "code",
   "execution_count": 13,
   "metadata": {
    "tags": []
   },
   "outputs": [
    {
     "output_type": "stream",
     "name": "stdout",
     "text": [
      "7\n"
     ]
    }
   ],
   "source": [
    "add_coordinates = (1, 3)\n",
    "def slide_down(matrix, slope):\n",
    "    i = 0; j = 0\n",
    "    obstacles = 0\n",
    "    # print(len(coordinate_matrix), len(coordinate_matrix[0]))\n",
    "    while i < len(matrix) - 1:\n",
    "        i += slope[0]\n",
    "        j += slope[1]\n",
    "        # print(len(matrix[0]))\n",
    "        if j > (len(matrix[0]) - 1):\n",
    "            j = j % len(matrix[0])\n",
    "        # print(matrix[i][j])\n",
    "        _i, _j, element = matrix[i][j]\n",
    "        # print(element, end=\"\")\n",
    "        if element == \"#\":\n",
    "            obstacles += 1\n",
    "    return obstacles\n",
    "\n",
    "# print(len(coordinate_matrix[0]))\n",
    "print(slide_down(coordinate_matrix, add_coordinates))"
   ]
  },
  {
   "cell_type": "code",
   "execution_count": 14,
   "metadata": {
    "tags": []
   },
   "outputs": [
    {
     "output_type": "stream",
     "name": "stdout",
     "text": [
      "282\n"
     ]
    }
   ],
   "source": [
    "problem_input = []\n",
    "input_3 = read_input(\"input_3.txt\")\n",
    "for line in input_3:\n",
    "    problem_input.append(line.strip())\n",
    "\n",
    "input_matrix = convert_input_to_matrix(problem_input)\n",
    "print(slide_down(input_matrix, add_coordinates))\n",
    "# print_matrix(input_matrix)"
   ]
  },
  {
   "source": [
    "## Part two\n",
    "Given no of slopes, find the number of trees encountered for the slope\n",
    "give the answer by multiplying all of them"
   ],
   "cell_type": "markdown",
   "metadata": {}
  },
  {
   "cell_type": "code",
   "execution_count": 15,
   "metadata": {},
   "outputs": [
    {
     "output_type": "stream",
     "name": "stdout",
     "text": [
      "958815792\n"
     ]
    }
   ],
   "source": [
    "slopes = [(1, 1), (1, 3), (1, 5), (1, 7), (2, 1)]\n",
    "\n",
    "def listed_slopes_slide(matrix, slopes):\n",
    "    multiplied_output = 1\n",
    "\n",
    "    for _slope in slopes:\n",
    "        multiplied_output *= slide_down(matrix, _slope)\n",
    "    return multiplied_output\n",
    "\n",
    "print(listed_slopes_slide(input_matrix, slopes))"
   ]
  },
  {
   "source": [
    "# Problem Four\n",
    "\n",
    "## Part one"
   ],
   "cell_type": "markdown",
   "metadata": {}
  },
  {
   "cell_type": "code",
   "execution_count": 16,
   "metadata": {},
   "outputs": [],
   "source": [
    "test_input = \"\"\"\n",
    "ecl:gry pid:860033327 eyr:2020 hcl:#fffffd\n",
    "byr:1937 iyr:2017 cid:147 hgt:183cm\n",
    "\n",
    "iyr:2013 ecl:amb cid:350 eyr:2023 pid:028048884\n",
    "hcl:#cfa07d byr:1929\n",
    "\n",
    "hcl:#ae17e1 iyr:2013\n",
    "eyr:2024\n",
    "ecl:brn pid:760753108 byr:1931\n",
    "hgt:179cm\n",
    "\n",
    "hcl:#cfa07d eyr:2025 pid:166559648\n",
    "iyr:2011 ecl:brn hgt:59in\n",
    "\"\"\"\n",
    "\n",
    "required_fields = ['byr', 'iyr', 'eyr', 'hgt', 'hcl', 'ecl', 'pid']"
   ]
  },
  {
   "cell_type": "code",
   "execution_count": 17,
   "metadata": {},
   "outputs": [],
   "source": [
    "def read_passports(_input_data):\n",
    "    _input_data = _input_data.split(\"\\n\\n\")\n",
    "    passports = []\n",
    "    for line in _input_data:\n",
    "        fields = {}\n",
    "        line = line.strip(\"\\n\")\n",
    "        for _field in line.split():\n",
    "            key, value = _field.split(\":\")\n",
    "            fields[key] = value\n",
    "        passports.append(fields)\n",
    "    return passports\n",
    "\n",
    "_pp = read_passports(test_input)\n",
    "# print(_pp)"
   ]
  },
  {
   "cell_type": "code",
   "execution_count": 18,
   "metadata": {},
   "outputs": [
    {
     "output_type": "stream",
     "name": "stdout",
     "text": [
      "2\n"
     ]
    }
   ],
   "source": [
    "_pp = read_passports(test_input)\n",
    "\n",
    "def validate_passport(passports):\n",
    "    valid_pp = 0\n",
    "    for passport in passports:\n",
    "        passport_fields = passport.keys()\n",
    "        if 'cid' in passport_fields:\n",
    "            if len(passport_fields) == 8:\n",
    "                valid_pp += 1\n",
    "        else:\n",
    "            if len(passport_fields) == 7:\n",
    "                valid_pp += 1\n",
    "    return valid_pp\n",
    "\n",
    "print(validate_passport(_pp))"
   ]
  },
  {
   "cell_type": "code",
   "execution_count": 19,
   "metadata": {
    "tags": []
   },
   "outputs": [
    {
     "output_type": "stream",
     "name": "stdout",
     "text": [
      "247\n"
     ]
    }
   ],
   "source": [
    "input_4 = \"\"\n",
    "with open(\"input_4.txt\") as o:\n",
    "    input_4 = o.read()\n",
    "\n",
    "input_passports = read_passports(input_4)\n",
    "# print(len(input_passports))\n",
    "print(validate_passport(input_passports))"
   ]
  },
  {
   "cell_type": "code",
   "execution_count": 20,
   "metadata": {},
   "outputs": [],
   "source": [
    "import re\n",
    "\n",
    "def validate_byr(birth_year: int):\n",
    "    try:\n",
    "        if 1920 <= int(birth_year) <= 2002:\n",
    "            return True\n",
    "    except Exception:\n",
    "        pass\n",
    "    return False\n",
    "\n",
    "def validate_iyr(issue_year: int):\n",
    "    try:\n",
    "        if 2010 <= int(issue_year) <= 2020:\n",
    "            return True\n",
    "    except Exception:\n",
    "        pass\n",
    "    return False\n",
    "\n",
    "def validate_eyr(expire_year: int):\n",
    "    try:\n",
    "        if 2020 <= int(expire_year) <= 2030:\n",
    "            return True\n",
    "    except Exception:\n",
    "        pass\n",
    "    return False\n",
    "\n",
    "def validate_hgt(height: str):\n",
    "    if \"in\" in height:\n",
    "        height = height.split(\"in\")[0]\n",
    "        try:\n",
    "            if 59 <= int(height) <= 76:\n",
    "                return True\n",
    "        except ValueError:\n",
    "            pass\n",
    "    if \"cm\" in height:\n",
    "        height = height.split(\"cm\")[0]\n",
    "        try:\n",
    "            if 150 <= int(height) <= 193:\n",
    "                return True\n",
    "        except ValueError:\n",
    "            pass\n",
    "    return False\n",
    "\n",
    "def validate_hcl(hair_color: str):\n",
    "    pattern = re.compile(r\"^#[a-f0-9]{6}$\")\n",
    "    return pattern.match(hair_color) is not None\n",
    "\n",
    "def validate_ecl(eye_color: str):\n",
    "    valid_colors = ['amb', 'blu', 'brn', 'gry', 'grn', 'hzl', 'oth']\n",
    "    if len(eye_color) == 3:\n",
    "        if eye_color in valid_colors:\n",
    "            return True\n",
    "    return False\n",
    "\n",
    "def validate_pid(passport_id: str):\n",
    "    if len(passport_id) == 9 and passport_id.isdigit():\n",
    "        return True\n",
    "    return False"
   ]
  },
  {
   "cell_type": "code",
   "execution_count": 21,
   "metadata": {},
   "outputs": [
    {
     "output_type": "stream",
     "name": "stdout",
     "text": [
      "4\n0\n"
     ]
    }
   ],
   "source": [
    "valid_test_passports = \"\"\"\n",
    "pid:087499704 hgt:74in ecl:grn iyr:2012 eyr:2030 byr:1980\n",
    "hcl:#623a2f\n",
    "\n",
    "eyr:2029 ecl:blu cid:129 byr:1989\n",
    "iyr:2014 pid:896056539 hcl:#a97842 hgt:165cm\n",
    "\n",
    "hcl:#888785\n",
    "hgt:164cm byr:2001 iyr:2015 cid:88\n",
    "pid:545766238 ecl:hzl\n",
    "eyr:2022\n",
    "\n",
    "iyr:2010 hgt:158cm hcl:#b6652a ecl:blu byr:1944 eyr:2021 pid:093154719\n",
    "\"\"\"\n",
    "\n",
    "invalid_test_passports = \"\"\"\n",
    "eyr:1972 cid:100\n",
    "hcl:#18171d ecl:amb hgt:170 pid:186cm iyr:2018 byr:1926\n",
    "\n",
    "iyr:2019\n",
    "hcl:#602927 eyr:1967 hgt:170cm\n",
    "ecl:grn pid:012533040 byr:1946\n",
    "\n",
    "hcl:dab227 iyr:2012\n",
    "ecl:brn hgt:182cm pid:021572410 eyr:2020 byr:1992 cid:277\n",
    "\n",
    "hgt:59cm ecl:zzz\n",
    "eyr:2038 hcl:74454a iyr:2023\n",
    "pid:3556412378 byr:2007\n",
    "\"\"\"\n",
    "\n",
    "vt_passports = read_passports(valid_test_passports)\n",
    "invt_passports = read_passports(invalid_test_passports)\n",
    "\n",
    "\n",
    "function_dictionary = {\n",
    "    \"validate_byr\": validate_byr,\n",
    "    \"validate_iyr\": validate_iyr,\n",
    "    \"validate_eyr\": validate_eyr,\n",
    "    \"validate_hgt\": validate_hgt,\n",
    "    \"validate_hcl\": validate_hcl,\n",
    "    \"validate_ecl\": validate_ecl,\n",
    "    \"validate_pid\": validate_pid,\n",
    "}\n",
    "\n",
    "def is_fields_valid(passport):\n",
    "    passport_fields = passport.keys()\n",
    "    if 'cid' in passport_fields:\n",
    "        if len(passport_fields) == 8:\n",
    "            return True\n",
    "    else:\n",
    "        if len(passport_fields) == 7:\n",
    "            return True\n",
    "    return False\n",
    "\n",
    "def call_method(key, value):\n",
    "    method_name = \"validate_{}\".format(key)\n",
    "    return function_dictionary.get(method_name)(value)\n",
    "\n",
    "def data_validate_passports(passports):\n",
    "    valid_passports = 0\n",
    "    # print(passports)\n",
    "    for passport in passports:\n",
    "        is_valid = True\n",
    "        # print(passport, is_fields_valid(passport))\n",
    "        if is_fields_valid(passport):\n",
    "            for key, value in passport.items():\n",
    "                if key != \"cid\":\n",
    "                    # print(call_method(key, value))\n",
    "                    if not call_method(key, value):\n",
    "                        is_valid = False\n",
    "            # print(is_valid)\n",
    "            if is_valid:\n",
    "                valid_passports += 1\n",
    "            # print()\n",
    "        # print(valid_passports)\n",
    "    return valid_passports\n",
    "\n",
    "\n",
    "print(data_validate_passports(vt_passports))\n",
    "print(data_validate_passports(invt_passports))"
   ]
  },
  {
   "cell_type": "code",
   "execution_count": 22,
   "metadata": {
    "tags": []
   },
   "outputs": [
    {
     "output_type": "stream",
     "name": "stdout",
     "text": [
      "145\n"
     ]
    }
   ],
   "source": [
    "input_4 = \"\"\n",
    "with open(\"input_4.txt\") as o:\n",
    "    input_4 = o.read()\n",
    "\n",
    "input_passports = read_passports(input_4)\n",
    "# print(input_passports)\n",
    "print(data_validate_passports(input_passports))"
   ]
  },
  {
   "source": [
    "# Problem Five\n",
    "## Part One"
   ],
   "cell_type": "markdown",
   "metadata": {}
  },
  {
   "cell_type": "code",
   "execution_count": 39,
   "metadata": {},
   "outputs": [
    {
     "output_type": "stream",
     "name": "stdout",
     "text": [
      "14\n7\n44\n"
     ]
    }
   ],
   "source": [
    "import math\n",
    "\n",
    "input_5 = read_input('input_5.txt')\n",
    "\n",
    "# print(input_5)\n",
    "\n",
    "def give_seat_row(seat_id):\n",
    "    partition_range = (0, 127)\n",
    "\n",
    "    for i, id in enumerate(seat_id):\n",
    "        if i != 6:\n",
    "            if id == 'F':  # lower half\n",
    "                _range = partition_range\n",
    "                partition_range = (_range[0], math.floor((_range[0] + _range[1]) / 2))\n",
    "            if id == 'B':  # upper half\n",
    "                _range = partition_range\n",
    "                partition_range = (math.ceil((_range[0] + _range[1]) / 2), _range[1])\n",
    "        if i == 6:\n",
    "            if id == 'F':  # lower half\n",
    "                return partition_range[0]\n",
    "            if id == 'B':  # upper half\n",
    "                return partition_range[1]\n",
    "        # print(partition_range)\n",
    "\n",
    "def give_seat_column(seat_id):\n",
    "    partition_range = (0, 7)\n",
    "\n",
    "    for i, id in enumerate(seat_id):\n",
    "        if i != 2:\n",
    "            if id == 'L':  # lower half\n",
    "                _range = partition_range\n",
    "                partition_range = (_range[0], math.floor((_range[0] + _range[1]) / 2))\n",
    "            if id == 'R':  # upper half\n",
    "                _range = partition_range\n",
    "                partition_range = (math.ceil((_range[0] + _range[1]) / 2), _range[1])\n",
    "        if i == 2:\n",
    "            if id == 'L':  # lower half\n",
    "                return partition_range[0]\n",
    "            if id == 'R':  # upper half\n",
    "                return partition_range[1]\n",
    "\n",
    "print(give_seat_row('FFFBBBF'))\n",
    "print(give_seat_column('RRR'))\n",
    "print(give_seat_row('FBFBBFF'))"
   ]
  },
  {
   "cell_type": "code",
   "execution_count": 49,
   "metadata": {},
   "outputs": [
    {
     "output_type": "stream",
     "name": "stdout",
     "text": [
      "838\n"
     ]
    }
   ],
   "source": [
    "test_input = \"\"\"\n",
    "FBFBBFFRLR\n",
    "BFFFBBFRRR\n",
    "FFFBBBFRRR\n",
    "BBFFBBFRLL\n",
    "\"\"\"\n",
    "\n",
    "test_input = test_input.split()\n",
    "# print(test_input)\n",
    "\n",
    "def get_unique_seat_id(_input):\n",
    "    _input = _input.strip(\"\\n\")\n",
    "    row_code = _input[:7]\n",
    "    colum_code = _input[7:]\n",
    "    seat_row = give_seat_row(row_code)\n",
    "    column_row = give_seat_column(colum_code)\n",
    "\n",
    "    unique_id = (seat_row * 8) + column_row\n",
    "    return unique_id\n",
    "\n",
    "# for code in test_input:\n",
    "#     print(get_unique_seat_id(code))\n",
    "\n",
    "unique_ids = []\n",
    "for code in input_5:\n",
    "    unique_ids.append(get_unique_seat_id(code))\n",
    "print(max(unique_ids))\n",
    "# print(sorted(unique_ids))\n"
   ]
  },
  {
   "source": [
    "## Part two"
   ],
   "cell_type": "markdown",
   "metadata": {}
  },
  {
   "cell_type": "code",
   "execution_count": 63,
   "metadata": {},
   "outputs": [
    {
     "output_type": "stream",
     "name": "stdout",
     "text": [
      "714\n"
     ]
    }
   ],
   "source": [
    "\n",
    "unique_id_mapping = {}\n",
    "for code in input_5:\n",
    "    unique_id_mapping[get_unique_seat_id(code)] = code.strip(\"\\n\")\n",
    "\n",
    "# print(sorted(unique_ids))\n",
    "def give_missing_boarding_pass(unique_ids):\n",
    "    sorted_ids = sorted(unique_ids) \n",
    "    for i, unique_id in enumerate(sorted_ids):\n",
    "        # print(unique_id, sorted_ids[i + 1])\n",
    "        if unique_id + 1 != sorted_ids[i + 1]:\n",
    "            return unique_id + 1\n",
    "\n",
    "print(give_missing_boarding_pass(unique_ids))"
   ]
  },
  {
   "source": [
    "# Problem Six\n",
    "## Part One"
   ],
   "cell_type": "markdown",
   "metadata": {}
  },
  {
   "cell_type": "code",
   "execution_count": 98,
   "metadata": {},
   "outputs": [
    {
     "output_type": "stream",
     "name": "stdout",
     "text": [
      "11\n6947\n"
     ]
    }
   ],
   "source": [
    "def read_input_6(filename):\n",
    "    with open(filename) as i:\n",
    "        return i.read()\n",
    "\n",
    "test_input = \"\"\"\n",
    "abc\n",
    "\n",
    "a\n",
    "b\n",
    "c\n",
    "\n",
    "ab\n",
    "ac\n",
    "\n",
    "a\n",
    "a\n",
    "a\n",
    "a\n",
    "\n",
    "b\n",
    "\"\"\"\n",
    "\n",
    "def give_form_output(_input):\n",
    "    sum_of_counts = 0\n",
    "    _input = _input.split(\"\\n\\n\")\n",
    "    for i, group in enumerate(_input):\n",
    "        _group = group.split('\\n')\n",
    "        _group = ''.join(_group)\n",
    "        sum_of_counts += len(set(_group))\n",
    "    \n",
    "    return sum_of_counts\n",
    "\n",
    "print(give_form_output(test_input))\n",
    "print(give_form_output(read_input_6('input_6.txt')))"
   ]
  },
  {
   "source": [
    "## Part two"
   ],
   "cell_type": "markdown",
   "metadata": {}
  },
  {
   "cell_type": "code",
   "execution_count": 109,
   "metadata": {},
   "outputs": [
    {
     "output_type": "stream",
     "name": "stdout",
     "text": [
      "['abc']\n['a', 'b', 'c']\n['ab', 'ac']\n['a', 'a', 'a', 'a']\n['b']\n"
     ]
    }
   ],
   "source": [
    "def give_yesanswers_group(_input):\n",
    "    groups_answers = []\n",
    "    _input = _input.split(\"\\n\\n\")\n",
    "    for group in _input:\n",
    "        _group = group.split(\"\\n\")\n",
    "        _group = [i for i in _group if i.strip()]\n",
    "        \n",
    "        print(_group)\n",
    "\n",
    "give_yesanswers_group(test_input)"
   ]
  }
 ],
 "metadata": {
  "kernelspec": {
   "display_name": "Python 3",
   "name": "python3",
   "language": "python"
  },
  "language_info": {
   "codemirror_mode": {
    "name": "ipython",
    "version": 3
   },
   "file_extension": ".py",
   "mimetype": "text/x-python",
   "name": "python",
   "nbconvert_exporter": "python",
   "pygments_lexer": "ipython3",
   "version": "3.7.7-final"
  },
  "orig_nbformat": 2
 },
 "nbformat": 4,
 "nbformat_minor": 2
}