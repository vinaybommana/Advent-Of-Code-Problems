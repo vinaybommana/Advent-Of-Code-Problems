{
 "cells": [
  {
   "cell_type": "markdown",
   "metadata": {},
   "source": [
    "The instructions specify a series of steps and requirements about which steps must be finished before others can begin (your puzzle input). Each step is designated by a single letter. For example, suppose you have the following instructions:\n",
    "\n",
    "```\n",
    "Step C must be finished before step A can begin.\n",
    "Step C must be finished before step F can begin.\n",
    "Step A must be finished before step B can begin.\n",
    "Step A must be finished before step D can begin.\n",
    "Step B must be finished before step E can begin.\n",
    "Step D must be finished before step E can begin.\n",
    "Step F must be finished before step E can begin.\n",
    "```\n",
    "\n",
    "Visually, these requirements look like this:\n",
    "\n",
    "\n",
    "      -->A--->B--\n",
    "     /    \\      \\\n",
    "    C      -->D----->E\n",
    "     \\           /\n",
    "      ---->F-----\n",
    "\n",
    "Your first goal is to determine the order in which the steps should be completed. If more than one step is ready, choose the step which is first alphabetically. In this example, the steps would be completed as follows:\n",
    "\n",
    "    Only C is available, and so it is done first.\n",
    "    Next, both A and F are available. A is first alphabetically, so it is done next.\n",
    "    Then, even though F was available earlier, steps B and D are now also available, and B is the first alphabetically of the three.\n",
    "    After that, only D and F are available. E is not available because only some of its prerequisites are complete. Therefore, D is completed next.\n",
    "    F is the only choice, so it is done next.\n",
    "    Finally, E is completed.\n",
    "\n",
    "So, in this example, the correct order is `CABDFE.`\n",
    "\n",
    "In what order should the steps in your instructions be completed?"
   ]
  },
  {
   "cell_type": "markdown",
   "metadata": {},
   "source": [
    "* **Topological Sort**\n",
    "  for a Directed Acyclic graph, ~ is a linear ordering of vertices such that for every edge (u, v),\n",
    "  vertex u comes before v"
   ]
  },
  {
   "cell_type": "code",
   "execution_count": 1,
   "metadata": {},
   "outputs": [],
   "source": [
    "# read input\n",
    "\n",
    "def read_input_from_file(filename):\n",
    "    with open(filename) as f:\n",
    "        for line in f:\n",
    "            yield line"
   ]
  },
  {
   "cell_type": "code",
   "execution_count": 2,
   "metadata": {},
   "outputs": [],
   "source": [
    "# example lines\n",
    "\n",
    "example_lines = [line.strip() for line in read_input_from_file('example_lines.txt')]\n",
    "# print(example_lines)"
   ]
  },
  {
   "cell_type": "code",
   "execution_count": 3,
   "metadata": {},
   "outputs": [
    {
     "data": {
      "text/plain": [
       "[('C', 'A'),\n",
       " ('C', 'F'),\n",
       " ('A', 'B'),\n",
       " ('A', 'D'),\n",
       " ('B', 'E'),\n",
       " ('D', 'E'),\n",
       " ('F', 'E')]"
      ]
     },
     "execution_count": 3,
     "metadata": {},
     "output_type": "execute_result"
    }
   ],
   "source": [
    "import re\n",
    "def parse_input(lines):\n",
    "    matching = r'Step ([A-Z]) must be finished before step ([A-Z]) can begin.'\n",
    "    return [re.match(matching, line).groups() for line in lines]\n",
    "        \n",
    "parse_input(example_lines)"
   ]
  },
  {
   "cell_type": "code",
   "execution_count": 4,
   "metadata": {},
   "outputs": [
    {
     "data": {
      "text/plain": [
       "{'C': set(),\n",
       " 'A': {'C'},\n",
       " 'F': {'C'},\n",
       " 'B': {'A'},\n",
       " 'D': {'A'},\n",
       " 'E': {'B', 'D', 'F'}}"
      ]
     },
     "execution_count": 4,
     "metadata": {},
     "output_type": "execute_result"
    }
   ],
   "source": [
    "# print(preconditions)\n",
    "\n",
    "def get_preconditions(lines):\n",
    "    lines = parse_input(lines)\n",
    "    preconditions = {step: set() for line in lines for step in line}\n",
    "    for key in preconditions:\n",
    "        for a, b in lines:\n",
    "            preconditions[b].add(a)\n",
    "    return preconditions\n",
    "\n",
    "get_preconditions(example_lines)"
   ]
  },
  {
   "cell_type": "markdown",
   "metadata": {},
   "source": [
    "* Iterate over `preconditions`\n",
    "* if the value of key is `empty`, that is it has not preconditions\n",
    "* select the item\n",
    "* remove it from `preconditions`\n",
    "* remove the selected item from values of other items\n",
    "* goto step 1 again"
   ]
  },
  {
   "cell_type": "code",
   "execution_count": 5,
   "metadata": {},
   "outputs": [],
   "source": [
    "def find_order(lines):\n",
    "    selected_items = []\n",
    "    preconditions = get_preconditions(lines)\n",
    "\n",
    "    while preconditions:\n",
    "        candidates = [k for k, v in preconditions.items() if not v]\n",
    "        selected_item = min(candidates)\n",
    "        selected_items.append(selected_item)\n",
    "\n",
    "        # remove selected item\n",
    "        # from preconditions\n",
    "        del preconditions[selected_item]\n",
    "\n",
    "        # from values\n",
    "        for v in preconditions.values():\n",
    "            if selected_item in v:\n",
    "                v.remove(selected_item)\n",
    "    return \"\".join(selected_items)\n",
    "\n",
    "\n",
    "assert find_order(example_lines) == \"CABDFE\""
   ]
  },
  {
   "cell_type": "code",
   "execution_count": 14,
   "metadata": {},
   "outputs": [
    {
     "data": {
      "text/plain": [
       "'CFMNLOAHRKPTWBJSYZVGUQXIDE'"
      ]
     },
     "execution_count": 14,
     "metadata": {},
     "output_type": "execute_result"
    }
   ],
   "source": [
    "input_lines = [line.strip() for line in read_input_from_file('input_7.txt')]\n",
    "find_order(input_lines)"
   ]
  },
  {
   "cell_type": "markdown",
   "metadata": {},
   "source": [
    "## Part two"
   ]
  },
  {
   "cell_type": "code",
   "execution_count": 30,
   "metadata": {},
   "outputs": [
    {
     "data": {
      "text/plain": [
       "63"
      ]
     },
     "execution_count": 30,
     "metadata": {},
     "output_type": "execute_result"
    }
   ],
   "source": [
    "def step_time(step, base=60):\n",
    "    return (ord(step) - ord('A')) + 1 + base\n",
    "\n",
    "step_time('C')"
   ]
  },
  {
   "cell_type": "code",
   "execution_count": 39,
   "metadata": {},
   "outputs": [
    {
     "name": "stdout",
     "output_type": "stream",
     "text": [
      "0 [None, None, None, None, None]\n",
      "63 [None, WorkItem(worker_id=1, item='R', start_time=0, end_time=78), WorkItem(worker_id=2, item='N', start_time=0, end_time=74), WorkItem(worker_id=3, item='F', start_time=0, end_time=66), WorkItem(worker_id=4, item='C', start_time=0, end_time=63)]\n",
      "66 [None, WorkItem(worker_id=1, item='R', start_time=0, end_time=78), WorkItem(worker_id=2, item='N', start_time=0, end_time=74), WorkItem(worker_id=3, item='F', start_time=0, end_time=66), None]\n",
      "74 [None, WorkItem(worker_id=1, item='R', start_time=0, end_time=78), WorkItem(worker_id=2, item='N', start_time=0, end_time=74), None, WorkItem(worker_id=4, item='M', start_time=66, end_time=139)]\n",
      "78 [WorkItem(worker_id=0, item='T', start_time=74, end_time=154), WorkItem(worker_id=1, item='R', start_time=0, end_time=78), WorkItem(worker_id=2, item='O', start_time=74, end_time=149), WorkItem(worker_id=3, item='L', start_time=74, end_time=146), WorkItem(worker_id=4, item='M', start_time=66, end_time=139)]\n",
      "139 [WorkItem(worker_id=0, item='T', start_time=74, end_time=154), WorkItem(worker_id=1, item='K', start_time=78, end_time=149), WorkItem(worker_id=2, item='O', start_time=74, end_time=149), WorkItem(worker_id=3, item='L', start_time=74, end_time=146), WorkItem(worker_id=4, item='M', start_time=66, end_time=139)]\n",
      "146 [WorkItem(worker_id=0, item='T', start_time=74, end_time=154), WorkItem(worker_id=1, item='K', start_time=78, end_time=149), WorkItem(worker_id=2, item='O', start_time=74, end_time=149), WorkItem(worker_id=3, item='L', start_time=74, end_time=146), WorkItem(worker_id=4, item='W', start_time=139, end_time=222)]\n",
      "149 [WorkItem(worker_id=0, item='T', start_time=74, end_time=154), WorkItem(worker_id=1, item='K', start_time=78, end_time=149), WorkItem(worker_id=2, item='O', start_time=74, end_time=149), None, WorkItem(worker_id=4, item='W', start_time=139, end_time=222)]\n",
      "154 [WorkItem(worker_id=0, item='T', start_time=74, end_time=154), None, WorkItem(worker_id=2, item='H', start_time=149, end_time=217), WorkItem(worker_id=3, item='A', start_time=149, end_time=210), WorkItem(worker_id=4, item='W', start_time=139, end_time=222)]\n",
      "210 [None, None, WorkItem(worker_id=2, item='H', start_time=149, end_time=217), WorkItem(worker_id=3, item='A', start_time=149, end_time=210), WorkItem(worker_id=4, item='W', start_time=139, end_time=222)]\n",
      "217 [None, None, WorkItem(worker_id=2, item='H', start_time=149, end_time=217), None, WorkItem(worker_id=4, item='W', start_time=139, end_time=222)]\n",
      "222 [None, None, None, WorkItem(worker_id=3, item='P', start_time=217, end_time=293), WorkItem(worker_id=4, item='W', start_time=139, end_time=222)]\n",
      "284 [None, None, None, WorkItem(worker_id=3, item='P', start_time=217, end_time=293), WorkItem(worker_id=4, item='B', start_time=222, end_time=284)]\n",
      "293 [None, None, None, WorkItem(worker_id=3, item='P', start_time=217, end_time=293), None]\n",
      "363 [None, None, WorkItem(worker_id=2, item='Y', start_time=293, end_time=378), WorkItem(worker_id=3, item='S', start_time=293, end_time=372), WorkItem(worker_id=4, item='J', start_time=293, end_time=363)]\n",
      "372 [None, None, WorkItem(worker_id=2, item='Y', start_time=293, end_time=378), WorkItem(worker_id=3, item='S', start_time=293, end_time=372), WorkItem(worker_id=4, item='Z', start_time=363, end_time=449)]\n",
      "378 [None, None, WorkItem(worker_id=2, item='Y', start_time=293, end_time=378), None, WorkItem(worker_id=4, item='Z', start_time=363, end_time=449)]\n",
      "449 [None, None, None, None, WorkItem(worker_id=4, item='Z', start_time=363, end_time=449)]\n",
      "531 [None, None, None, None, WorkItem(worker_id=4, item='V', start_time=449, end_time=531)]\n",
      "598 [None, None, None, WorkItem(worker_id=3, item='U', start_time=531, end_time=612), WorkItem(worker_id=4, item='G', start_time=531, end_time=598)]\n",
      "612 [None, None, None, WorkItem(worker_id=3, item='U', start_time=531, end_time=612), None]\n",
      "689 [None, None, None, None, WorkItem(worker_id=4, item='Q', start_time=612, end_time=689)]\n",
      "773 [None, None, None, None, WorkItem(worker_id=4, item='X', start_time=689, end_time=773)]\n",
      "842 [None, None, None, None, WorkItem(worker_id=4, item='I', start_time=773, end_time=842)]\n",
      "906 [None, None, None, None, WorkItem(worker_id=4, item='D', start_time=842, end_time=906)]\n",
      "971 [None, None, None, None, WorkItem(worker_id=4, item='E', start_time=906, end_time=971)]\n"
     ]
    },
    {
     "data": {
      "text/plain": [
       "971"
      ]
     },
     "execution_count": 39,
     "metadata": {},
     "output_type": "execute_result"
    }
   ],
   "source": [
    "from collections import namedtuple\n",
    "from typing import NamedTuple\n",
    "\n",
    "class WorkItem(NamedTuple):\n",
    "    worker_id: int\n",
    "    item: str\n",
    "    start_time: int\n",
    "    end_time: int\n",
    "    \n",
    "    \n",
    "input_lines = [line.strip() for line in read_input_from_file('input_7.txt')]\n",
    "\n",
    "def find_time(input_lines, num_workers=5, base=60):\n",
    "    \n",
    "    preconds = get_preconditions(input_lines)\n",
    "    work_items = [None for _ in range(num_workers)]\n",
    "    \n",
    "    time = 0\n",
    "    while preconds or any(work_items):\n",
    "        print(time, work_items)\n",
    "        for i, work_item in enumerate(work_items):\n",
    "            if work_item and work_item.end_time <= time:\n",
    "                work_items[i] = None\n",
    "                \n",
    "                for reqs in preconds.values():\n",
    "                    if work_item.item in reqs:\n",
    "                        reqs.remove(work_item.item)\n",
    "                        \n",
    "        available_workers = [i for i in range(num_workers) if work_items[i] is None]\n",
    "#         print(available_workers)\n",
    "        \n",
    "        candidates = sorted([step for step, reqs in preconds.items()\n",
    "                             if not reqs], reverse=True)\n",
    "#         print(candidates)\n",
    "\n",
    "        # Assign as much work as possible\n",
    "        while available_workers and candidates:\n",
    "            worker_id = available_workers.pop()\n",
    "            item = candidates.pop()\n",
    "\n",
    "            work_items[worker_id] = WorkItem(\n",
    "                worker_id=worker_id,\n",
    "                item=item,\n",
    "                start_time=time,\n",
    "                end_time=time + step_time(item, base)\n",
    "            )\n",
    "\n",
    "            del preconds[item]\n",
    "\n",
    "\n",
    "        if any(work_items):\n",
    "            time = min(work_item.end_time\n",
    "                       for work_item in work_items\n",
    "                       if work_item)\n",
    "\n",
    "    return time\n",
    "\n",
    "find_time(input_lines)"
   ]
  },
  {
   "cell_type": "code",
   "execution_count": null,
   "metadata": {},
   "outputs": [],
   "source": []
  }
 ],
 "metadata": {
  "kernelspec": {
   "display_name": "Python 3",
   "language": "python",
   "name": "python3"
  },
  "language_info": {
   "codemirror_mode": {
    "name": "ipython",
    "version": 3
   },
   "file_extension": ".py",
   "mimetype": "text/x-python",
   "name": "python",
   "nbconvert_exporter": "python",
   "pygments_lexer": "ipython3",
   "version": "3.6.5"
  }
 },
 "nbformat": 4,
 "nbformat_minor": 2
}
