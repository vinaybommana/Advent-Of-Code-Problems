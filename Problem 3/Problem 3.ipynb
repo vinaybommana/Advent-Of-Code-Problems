{
 "cells": [
  {
   "cell_type": "markdown",
   "metadata": {},
   "source": [
    "The whole piece of fabric they're working on is a very large square - at least 1000 inches on each side.\n",
    "\n",
    "Each Elf has made a claim about which area of fabric would be ideal for Santa's suit. All claims have an ID and consist of a single rectangle with edges parallel to the edges of the fabric. Each claim's rectangle is defined as follows:\n",
    "\n",
    "    The number of inches between the left edge of the fabric and the left edge of the rectangle.\n",
    "    The number of inches between the top edge of the fabric and the top edge of the rectangle.\n",
    "    The width of the rectangle in inches.\n",
    "    The height of the rectangle in inches.\n",
    "\n",
    "A claim like `#123 @ 3,2`: 5x4 means that claim ID 123 specifies a rectangle 3 inches from the left edge, 2 inches from the top edge, 5 inches wide, and 4 inches tall. Visually, it claims the square inches of fabric represented by # (and ignores the square inches of fabric represented by .) in the diagram below:\n",
    "\n",
    "```\n",
    "...........\n",
    "...........\n",
    "...#####...\n",
    "...#####...\n",
    "...#####...\n",
    "...#####...\n",
    "...........\n",
    "...........\n",
    "...........\n",
    "```\n",
    "\n",
    "The problem is that many of the claims overlap, causing two or more claims to cover part of the same areas. For example, consider the following claims:\n",
    "```\n",
    "#1 @ 1,3: 4x4\n",
    "#2 @ 3,1: 4x4\n",
    "#3 @ 5,5: 2x2\n",
    "```\n",
    "\n",
    "Visually, these claim the following areas:\n",
    "```\n",
    "........\n",
    "...2222.\n",
    "...2222.\n",
    ".11XX22.\n",
    ".11XX22.\n",
    ".111133.\n",
    ".111133.\n",
    "........\n",
    "```\n",
    "\n",
    "The four square inches marked with X are claimed by both 1 and 2. (Claim 3, while adjacent to the others, does not overlap either of them.)\n",
    "\n",
    "If the Elves all proceed with their own plans, none of them will have enough fabric. How many square inches of fabric are within two or more claims?"
   ]
  },
  {
   "cell_type": "code",
   "execution_count": 1,
   "metadata": {},
   "outputs": [],
   "source": [
    "def read_lines_from_file(filename):\n",
    "    with open(filename) as f:\n",
    "        for line in f:\n",
    "            yield line"
   ]
  },
  {
   "cell_type": "code",
   "execution_count": 2,
   "metadata": {},
   "outputs": [
    {
     "name": "stdout",
     "output_type": "stream",
     "text": [
      "1285\n"
     ]
    }
   ],
   "source": [
    "claims = []\n",
    "for line in read_lines_from_file('input_3.txt'):\n",
    "    claims.append(line)\n",
    "    \n",
    "print(len(claims))"
   ]
  },
  {
   "cell_type": "code",
   "execution_count": 3,
   "metadata": {},
   "outputs": [
    {
     "data": {
      "text/plain": [
       "'1'"
      ]
     },
     "execution_count": 3,
     "metadata": {},
     "output_type": "execute_result"
    }
   ],
   "source": [
    "def get_id_of_fabric_claimed(claim):\n",
    "    id = claim.split(\"@\")[0]\n",
    "    id = id.strip(\"#\")\n",
    "    return id.strip()\n",
    "get_id_of_fabric_claimed(\"#1 @ 82,901: 26x12\")"
   ]
  },
  {
   "cell_type": "code",
   "execution_count": 4,
   "metadata": {},
   "outputs": [
    {
     "name": "stdout",
     "output_type": "stream",
     "text": [
      "(902, 83)\n"
     ]
    }
   ],
   "source": [
    "def get_starting_coordinates_of_fabric_claimed(claim):\n",
    "    starting_coordinate = claim.split(\":\")[0]\n",
    "    starting_coordinate = starting_coordinate.split('@')[1]\n",
    "#     print(starting_coordinate)\n",
    "    starting_coordinate = starting_coordinate.strip()\n",
    "#     print(starting_coordinate)\n",
    "    y, x = tuple(starting_coordinate.split(','))\n",
    "    y = int(y)\n",
    "    x = int(x)\n",
    "    return x + 1, y + 1\n",
    "    \n",
    "print(get_starting_coordinates_of_fabric_claimed(\"#1 @ 82,901: 26x12\"))"
   ]
  },
  {
   "cell_type": "code",
   "execution_count": 5,
   "metadata": {},
   "outputs": [
    {
     "name": "stdout",
     "output_type": "stream",
     "text": [
      "(4, 5)\n"
     ]
    }
   ],
   "source": [
    "def get_size_coordinates_of_fabric_claimed(claim):\n",
    "    final_coordinate = claim.split(\":\")[1]\n",
    "    final_coordinate = final_coordinate.strip()\n",
    "    final_coordinate = tuple(final_coordinate.split('x'))\n",
    "    y_f, x_f = int(final_coordinate[0]), int(final_coordinate[1])\n",
    "    return x_f, y_f\n",
    "\n",
    "print(get_size_coordinates_of_fabric_claimed(\"@ 3, 2: 5x4\"))"
   ]
  },
  {
   "cell_type": "code",
   "execution_count": 6,
   "metadata": {},
   "outputs": [
    {
     "name": "stdout",
     "output_type": "stream",
     "text": [
      "[(3, 4), (3, 5), (3, 6), (3, 7), (3, 8), (4, 4), (4, 5), (4, 6), (4, 7), (4, 8), (5, 4), (5, 5), (5, 6), (5, 7), (5, 8), (6, 4), (6, 5), (6, 6), (6, 7), (6, 8)]\n"
     ]
    }
   ],
   "source": [
    "def get_occupied_coordinates_of_fabric(start_tuple, size_tuple):\n",
    "    start_x, start_y = start_tuple\n",
    "    size_x, size_y = size_tuple\n",
    "    occupied_coordinates = []\n",
    "    for i in range(start_x, start_x + size_x):\n",
    "        for j in range(start_y, start_y + size_y):\n",
    "            occupied_coordinates.append((i, j))\n",
    "    return occupied_coordinates\n",
    "\n",
    "\n",
    "start_tuple = get_starting_coordinates_of_fabric_claimed(\"@ 3, 2: 5x4\")\n",
    "size_tuple = get_size_coordinates_of_fabric_claimed(\"@ 3, 2: 5x4\")\n",
    "print(get_occupied_coordinates_of_fabric(start_tuple, size_tuple))"
   ]
  },
  {
   "cell_type": "code",
   "execution_count": 7,
   "metadata": {},
   "outputs": [
    {
     "name": "stdout",
     "output_type": "stream",
     "text": [
      "1285\n"
     ]
    }
   ],
   "source": [
    "dictionary_of_fabric_claims = {}\n",
    "for claim in claims:\n",
    "    id = get_id_of_fabric_claimed(claim)\n",
    "    start_tuple = get_starting_coordinates_of_fabric_claimed(claim)\n",
    "    size_tuple = get_size_coordinates_of_fabric_claimed(claim)\n",
    "    occupied_coordinates = get_occupied_coordinates_of_fabric(start_tuple, size_tuple)\n",
    "    dictionary_of_fabric_claims[id] = occupied_coordinates\n",
    "\n",
    "print(len(dictionary_of_fabric_claims.keys()))"
   ]
  },
  {
   "cell_type": "code",
   "execution_count": 23,
   "metadata": {},
   "outputs": [
    {
     "name": "stdout",
     "output_type": "stream",
     "text": [
      "107820\n"
     ]
    }
   ],
   "source": [
    "from collections import Counter\n",
    "occupied_lists = []\n",
    "for key, value in dictionary_of_fabric_claims.items():\n",
    "    occupied_lists.append(value)\n",
    "\n",
    "squares = []\n",
    "occupied_lists = [x for i in occupied_lists for x in i]\n",
    "# print(len(occupied_lists))\n",
    "dict_of_counter = Counter(occupied_lists)\n",
    "for key, value in dict_of_counter.items():\n",
    "    if value > 1:\n",
    "        squares.append(key)\n",
    "print(len(squares))\n",
    "# print(occupied_lists)"
   ]
  },
  {
   "cell_type": "markdown",
   "metadata": {},
   "source": [
    "## Part two"
   ]
  },
  {
   "cell_type": "code",
   "execution_count": 26,
   "metadata": {},
   "outputs": [
    {
     "name": "stdout",
     "output_type": "stream",
     "text": [
      "661\n"
     ]
    }
   ],
   "source": [
    "for key, value in dictionary_of_fabric_claims.items():\n",
    "    for i in value:\n",
    "        if i in squares:\n",
    "            break\n",
    "    else:\n",
    "        print(key)\n",
    "        break"
   ]
  }
 ],
 "metadata": {
  "kernelspec": {
   "display_name": "Python 3",
   "language": "python",
   "name": "python3"
  },
  "language_info": {
   "codemirror_mode": {
    "name": "ipython",
    "version": 3
   },
   "file_extension": ".py",
   "mimetype": "text/x-python",
   "name": "python",
   "nbconvert_exporter": "python",
   "pygments_lexer": "ipython3",
   "version": "3.6.5"
  }
 },
 "nbformat": 4,
 "nbformat_minor": 2
}
