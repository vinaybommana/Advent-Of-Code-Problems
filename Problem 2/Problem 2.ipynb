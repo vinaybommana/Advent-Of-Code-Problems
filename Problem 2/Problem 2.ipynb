{
 "cells": [
  {
   "cell_type": "markdown",
   "metadata": {},
   "source": [
    "## part one\n",
    "\n",
    "For example, if you see the following box IDs:\n",
    "\n",
    "* abcdef contains no letters that appear exactly two or three times.\n",
    "* bababc contains two a and three b, so it counts for both.\n",
    "* abbcde contains two b, but no letter appears exactly three times.\n",
    "* abcccd contains three c, but no letter appears exactly two times.\n",
    "* aabcdd contains two a and two d, but it only counts once.\n",
    "* abcdee contains two e.\n",
    "* ababab contains three a and three b, but it only counts once.\n",
    "\n",
    "Of these box IDs, four of them contain a letter which appears exactly twice, and three of them contain a letter which appears exactly three times. Multiplying these together produces a checksum of 4 * 3 = 12.\n"
   ]
  },
  {
   "cell_type": "code",
   "execution_count": 1,
   "metadata": {},
   "outputs": [],
   "source": [
    "from collections import Counter"
   ]
  },
  {
   "cell_type": "code",
   "execution_count": 2,
   "metadata": {},
   "outputs": [],
   "source": [
    "def get_lines_from_files(filename):\n",
    "    rows = []\n",
    "    with open(filename) as f:\n",
    "        for line in f:\n",
    "            yield line"
   ]
  },
  {
   "cell_type": "code",
   "execution_count": 4,
   "metadata": {},
   "outputs": [],
   "source": [
    "most_common_items = []\n",
    "for line in get_lines_from_files('input_2.txt'):\n",
    "    most_common_items.append(Counter(line.strip('\\n')).most_common(2))\n",
    "# print(most_common_items)"
   ]
  },
  {
   "cell_type": "code",
   "execution_count": 14,
   "metadata": {},
   "outputs": [
    {
     "name": "stdout",
     "output_type": "stream",
     "text": [
      "6944\n"
     ]
    }
   ],
   "source": [
    "two_count = 0\n",
    "three_count = 0\n",
    "for item in most_common_items:\n",
    "    first_tuple, second_tuple = item\n",
    "    letter, count_1 = first_tuple\n",
    "    letter, count_2 = second_tuple\n",
    "    if count_1 != count_2:\n",
    "        if count_1 == 2:\n",
    "            two_count += 1\n",
    "        if count_1 == 3:\n",
    "            three_count += 1\n",
    "        if count_2 == 2:\n",
    "            two_count += 1\n",
    "        if count_2 == 3:\n",
    "            three_count += 1\n",
    "    if count_1 == count_2:\n",
    "        if count_1 == 2:\n",
    "            two_count += 1\n",
    "        if count_1 == 3:\n",
    "            three_count +=1\n",
    "print(two_count * three_count)"
   ]
  },
  {
   "cell_type": "markdown",
   "metadata": {},
   "source": [
    "## part two\n",
    "\n",
    "Confident that your list of box IDs is complete, you're ready to find the boxes full of prototype fabric.\n",
    "\n",
    "The boxes will have IDs which differ by exactly one character at the same position in both strings. For example, given the following box IDs:\n",
    "\n",
    "* abcde\n",
    "* fghij\n",
    "* klmno\n",
    "* pqrst\n",
    "* fguij\n",
    "* axcye\n",
    "* wvxyz\n",
    "\n",
    "The IDs abcde and axcye are close, but they differ by two characters (the second and fourth). However, the IDs fghij and fguij differ by exactly one character, the third (h and u). Those must be the correct boxes.\n",
    "\n",
    "What letters are common between the two correct box IDs? (In the example above, this is found by removing the differing character from either ID, producing fgij.)"
   ]
  },
  {
   "cell_type": "code",
   "execution_count": 60,
   "metadata": {},
   "outputs": [],
   "source": [
    "lines = []\n",
    "for line in get_lines_from_files('input_2.txt'):\n",
    "    lines.append(line.strip('\\n'))\n",
    "    \n",
    "second_lines = lines\n",
    "    \n",
    "# for line in lines:\n",
    "#     print(len(line))"
   ]
  },
  {
   "cell_type": "code",
   "execution_count": 68,
   "metadata": {},
   "outputs": [
    {
     "name": "stdout",
     "output_type": "stream",
     "text": [
      "output is: \n",
      "15\n",
      "srijafjzloguvlntqmphenbkd\n"
     ]
    }
   ],
   "source": [
    "def return_matching_items(string1, string2):\n",
    "    not_match_count = 0\n",
    "    for i in range(26):\n",
    "        if string1[i] != string2[i]:\n",
    "            not_match_count += 1\n",
    "        if not_match_count > 1:\n",
    "            return None\n",
    "    if not_match_count == 1:\n",
    "        return string1, string2\n",
    "\n",
    "from itertools import combinations\n",
    "for item1, item2 in combinations(lines, 2):\n",
    "    output = return_matching_items(item1, item2)\n",
    "    if output is not None:\n",
    "        print(\"output is: \")\n",
    "        o1, o2 = output\n",
    "        not_match_1 = \"\"\n",
    "        not_match_2 = \"\"\n",
    "#         print(o1, o2)\n",
    "        for index, (x, y) in enumerate(zip(o1, o2)):\n",
    "            if x != y:\n",
    "                not_match_1 = index\n",
    "                break\n",
    "        print(index)\n",
    "        o1 = o1[:index] + o1[index + 1:]\n",
    "        o2 = o2[:index] + o2[index + 1:]\n",
    "        if o1 == o2:\n",
    "            print(o1)\n"
   ]
  }
 ],
 "metadata": {
  "kernelspec": {
   "display_name": "Python 3",
   "language": "python",
   "name": "python3"
  },
  "language_info": {
   "codemirror_mode": {
    "name": "ipython",
    "version": 3
   },
   "file_extension": ".py",
   "mimetype": "text/x-python",
   "name": "python",
   "nbconvert_exporter": "python",
   "pygments_lexer": "ipython3",
   "version": "3.6.5"
  }
 },
 "nbformat": 4,
 "nbformat_minor": 2
}
