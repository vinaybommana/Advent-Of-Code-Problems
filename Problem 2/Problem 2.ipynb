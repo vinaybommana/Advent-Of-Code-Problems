{
 "cells": [
  {
   "cell_type": "markdown",
   "metadata": {},
   "source": [
    "For example, if you see the following box IDs:\n",
    "\n",
    "* abcdef contains no letters that appear exactly two or three times.\n",
    "* bababc contains two a and three b, so it counts for both.\n",
    "* abbcde contains two b, but no letter appears exactly three times.\n",
    "* abcccd contains three c, but no letter appears exactly two times.\n",
    "* aabcdd contains two a and two d, but it only counts once.\n",
    "* abcdee contains two e.\n",
    "* ababab contains three a and three b, but it only counts once.\n",
    "\n",
    "Of these box IDs, four of them contain a letter which appears exactly twice, and three of them contain a letter which appears exactly three times. Multiplying these together produces a checksum of 4 * 3 = 12.\n"
   ]
  },
  {
   "cell_type": "code",
   "execution_count": 1,
   "metadata": {},
   "outputs": [],
   "source": [
    "from collections import Counter"
   ]
  },
  {
   "cell_type": "code",
   "execution_count": 2,
   "metadata": {},
   "outputs": [],
   "source": [
    "def get_lines_from_files(filename):\n",
    "    rows = []\n",
    "    with open(filename) as f:\n",
    "        for line in f:\n",
    "            yield line"
   ]
  },
  {
   "cell_type": "code",
   "execution_count": 4,
   "metadata": {},
   "outputs": [],
   "source": [
    "most_common_items = []\n",
    "for line in get_lines_from_files('input_2.txt'):\n",
    "    most_common_items.append(Counter(line.strip('\\n')).most_common(2))\n",
    "# print(most_common_items)"
   ]
  },
  {
   "cell_type": "code",
   "execution_count": 14,
   "metadata": {},
   "outputs": [
    {
     "name": "stdout",
     "output_type": "stream",
     "text": [
      "6944\n"
     ]
    }
   ],
   "source": [
    "two_count = 0\n",
    "three_count = 0\n",
    "for item in most_common_items:\n",
    "    first_tuple, second_tuple = item\n",
    "    letter, count_1 = first_tuple\n",
    "    letter, count_2 = second_tuple\n",
    "    if count_1 != count_2:\n",
    "        if count_1 == 2:\n",
    "            two_count += 1\n",
    "        if count_1 == 3:\n",
    "            three_count += 1\n",
    "        if count_2 == 2:\n",
    "            two_count += 1\n",
    "        if count_2 == 3:\n",
    "            three_count += 1\n",
    "    if count_1 == count_2:\n",
    "        if count_1 == 2:\n",
    "            two_count += 1\n",
    "        if count_1 == 3:\n",
    "            three_count +=1\n",
    "print(two_count * three_count)"
   ]
  },
  {
   "cell_type": "code",
   "execution_count": null,
   "metadata": {},
   "outputs": [],
   "source": []
  }
 ],
 "metadata": {
  "kernelspec": {
   "display_name": "Python 3",
   "language": "python",
   "name": "python3"
  },
  "language_info": {
   "codemirror_mode": {
    "name": "ipython",
    "version": 3
   },
   "file_extension": ".py",
   "mimetype": "text/x-python",
   "name": "python",
   "nbconvert_exporter": "python",
   "pygments_lexer": "ipython3",
   "version": "3.6.5"
  }
 },
 "nbformat": 4,
 "nbformat_minor": 2
}
