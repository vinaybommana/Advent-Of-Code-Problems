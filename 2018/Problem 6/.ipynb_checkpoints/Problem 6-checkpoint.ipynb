{
 "cells": [
  {
   "cell_type": "markdown",
   "metadata": {},
   "source": [
    "Using only the `Manhattan distance`, determine the area around each coordinate by counting the number of integer X,Y locations that are closest to that coordinate (and aren't tied in distance to any other coordinate).\n",
    "\n",
    "Your goal is to find the size of the largest area that isn't infinite. For example, consider the following list of coordinates:\n",
    "\n",
    "    1, 1\n",
    "    1, 6\n",
    "    8, 3\n",
    "    3, 4\n",
    "    5, 5\n",
    "    8, 9\n",
    "\n",
    "If we name these coordinates A through F, we can draw them on a grid, putting 0,0 at the top left:\n",
    "\n",
    "    ..........\n",
    "    .A........\n",
    "    ..........\n",
    "    ........C.\n",
    "    ...D......\n",
    "    .....E....\n",
    "    .B........\n",
    "    ..........\n",
    "    ..........\n",
    "    ........F.\n",
    "\n",
    "\n",
    "\n",
    "This view is partial - the actual grid extends infinitely in all directions. Using the Manhattan distance, each location's closest coordinate can be determined, shown here in lowercase:\n",
    "\n",
    "    aaaaa.cccc\n",
    "    aAaaa.cccc\n",
    "    aaaddecccc\n",
    "    aadddeccCc\n",
    "    ..dDdeeccc\n",
    "    bb.deEeecc\n",
    "    bBb.eeee..\n",
    "    bbb.eeefff\n",
    "    bbb.eeffff\n",
    "    bbb.ffffFf\n",
    "\n",
    "Locations shown as . are equally far from two or more coordinates, and so they don't count as being closest to any.\n",
    "\n",
    "In this example, the areas of coordinates A, B, C, and F are infinite - while not shown here, their areas extend forever outside the visible grid. However, the areas of coordinates D and E are finite: D is closest to 9 locations, and E is closest to 17 (both including the coordinate's location itself). Therefore, in this example, the size of the largest area is 17.\n",
    "\n",
    "What is the size of the largest area that isn't infinite?"
   ]
  },
  {
   "cell_type": "markdown",
   "metadata": {},
   "source": [
    "* **Manhattan distance**\n",
    "\n",
    "Manhattan distance, or taxicab distance, is the sum of the absolute differences of the cartesian coordinates.\n",
    "$$L_1 = \\mid A_x - B_x \\mid + \\mid A_y - B_y \\mid$$"
   ]
  },
  {
   "cell_type": "markdown",
   "metadata": {},
   "source": [
    "* **Voronoi Diagram**\n",
    "\n",
    "In mathematics, a Voronoi diagram is a partitioning of a plane into regions based on distance to points in a specific subset of the plane. That set of points (called seeds, sites, or generators) is specified beforehand, and for each seed there is a corresponding region consisting of all points closer to that seed than to any other. These regions are called Voronoi cells. The Voronoi diagram of a set of points is dual to its Delaunay triangulation. "
   ]
  },
  {
   "cell_type": "code",
   "execution_count": 118,
   "metadata": {},
   "outputs": [
    {
     "data": {
      "text/plain": [
       "'137, 140\\n'"
      ]
     },
     "execution_count": 118,
     "metadata": {},
     "output_type": "execute_result"
    }
   ],
   "source": [
    "# read input file\n",
    "\n",
    "def get_lines_from_input(filename):\n",
    "    with open(filename) as f:\n",
    "        for line in f:\n",
    "            yield line\n",
    "\n",
    "next(get_lines_from_input('input_6.txt'))"
   ]
  },
  {
   "cell_type": "code",
   "execution_count": 119,
   "metadata": {},
   "outputs": [],
   "source": [
    "input_points = []\n",
    "\n",
    "for line in get_lines_from_input('input_6.txt'):\n",
    "    line = line.strip('\\n')\n",
    "    line = tuple(line.split(\", \"))\n",
    "    line = (int(line[0]), int(line[1]))\n",
    "    input_points.append(line)"
   ]
  },
  {
   "cell_type": "code",
   "execution_count": 91,
   "metadata": {},
   "outputs": [],
   "source": [
    "def manhattan_distance(A, B):\n",
    "    A_x, A_y = A\n",
    "    B_x, B_y = B\n",
    "    return abs(A_x - B_x) + abs(A_y - B_y)"
   ]
  },
  {
   "cell_type": "code",
   "execution_count": 114,
   "metadata": {},
   "outputs": [
    {
     "name": "stdout",
     "output_type": "stream",
     "text": [
      "{(137, 140): 'AB', (318, 75): 'AC', (205, 290): 'AD', (104, 141): 'AE', (163, 104): 'AF', (169, 164): 'AG', (238, 324): 'AH', (180, 166): 'AI', (260, 198): 'AJ', (189, 139): 'AK', (290, 49): 'AL', (51, 350): 'AM', (51, 299): 'AN', (73, 324): 'AO', (220, 171): 'AP', (146, 336): 'AQ', (167, 286): 'AR', (51, 254): 'AS', (40, 135): 'AT', (103, 138): 'AU', (100, 271): 'AV', (104, 328): 'AW', (80, 67): 'AX', (199, 180): 'AY', (320, 262): 'AZ', (215, 290): 'BC', (96, 142): 'BD', (314, 128): 'BE', (162, 106): 'BF', (214, 326): 'BG', (303, 267): 'BH', (340, 96): 'BI', (211, 278): 'BJ', (335, 250): 'BK', (41, 194): 'BL', (229, 291): 'BM', (45, 97): 'BN', (304, 208): 'BO', (198, 214): 'BP', (250, 80): 'BQ', (200, 51): 'BR', (287, 50): 'BS', (120, 234): 'BT', (106, 311): 'BU', (41, 116): 'BV', (359, 152): 'BW', (189, 207): 'BX', (300, 167): 'BY', (318, 315): 'BZ', (296, 72): 'CD'}\n"
     ]
    }
   ],
   "source": [
    "from string import ascii_uppercase\n",
    "from itertools import combinations\n",
    "# print(ascii_uppercase)\n",
    "\n",
    "up_case = [i[0] + i[1] for i in combinations(ascii_uppercase, 2)]\n",
    "# print(len(up_case))\n",
    "\n",
    "letters = {}\n",
    "for point, letter in zip(input_points, up_case):\n",
    "    letters[point] = letter\n",
    "    \n",
    "print(letters)\n",
    "letters[None] = \".\""
   ]
  },
  {
   "cell_type": "code",
   "execution_count": 110,
   "metadata": {},
   "outputs": [],
   "source": [
    "def closest_point(point, input_points):\n",
    "    point_distances = []\n",
    "    for p in input_points:\n",
    "        point_distances.append((p, manhattan_distance(p, point)))\n",
    "    \n",
    "    point_distances = sorted(point_distances, key=lambda x: x[1])\n",
    "    a, b = point_distances[:2]\n",
    "    if a[1] < b[1]:\n",
    "        return a[0]\n",
    "    else:\n",
    "        return None\n",
    "    \n",
    "points_closer = {}\n",
    "# print(letters)\n",
    "\n",
    "for i in range(500):\n",
    "    for j in range(500):\n",
    "        letter = letters[closest_point((i, j), input_points)]\n",
    "        if letter in points_closer.keys():\n",
    "            previous_list = points_closer[letter]\n",
    "            previous_list += [(i, j)]\n",
    "            points_closer[letter] = previous_list\n",
    "        else:\n",
    "            points_closer[letter] = [(i, j)]\n",
    "            \n",
    "# print(points_closer)\n"
   ]
  },
  {
   "cell_type": "markdown",
   "metadata": {},
   "source": [
    "* The first problem we face here is how to know the closest points\n",
    "  this is a voronoi diagram, hence we define a closed space and find\n",
    "  the nearest elements to a particular point in the input\n",
    "  \n",
    "  `closest_point` function does this"
   ]
  },
  {
   "cell_type": "markdown",
   "metadata": {},
   "source": [
    "* we need to eliminate points that touched the edge, since their area is infinite\n",
    "  for that first we need to group all the closest points to that particular input_point\n",
    "  if any of the input_point touches the edge, the area is infinite and can be eliminated.\n",
    "  \n",
    "  if the space if a 10x10 grid, edges will be,\n",
    "\n",
    "  if row or column is 0 then it is a grid edge\n",
    "\n",
    "  if row or column is 9 then it is a grid edge"
   ]
  },
  {
   "cell_type": "code",
   "execution_count": 111,
   "metadata": {},
   "outputs": [
    {
     "name": "stdout",
     "output_type": "stream",
     "text": [
      "False\n"
     ]
    }
   ],
   "source": [
    "def is_touching_edge(point, grid):\n",
    "    a, b = point\n",
    "    if a in grid:\n",
    "        return True\n",
    "    if b in grid:\n",
    "        return True\n",
    "    return False\n",
    "\n",
    "print(is_touching_edge((1, 1), (0, 499)))"
   ]
  },
  {
   "cell_type": "code",
   "execution_count": 113,
   "metadata": {},
   "outputs": [
    {
     "name": "stdout",
     "output_type": "stream",
     "text": [
      "{'BD': 2309, 'AV': 2277, 'BT': 4398, 'BU': 1444, 'AU': 992, 'AE': 981, 'AF': 2781, 'BF': 1110, 'AB': 2109, 'AR': 3087, 'AG': 1491, 'BX': 1981, 'AK': 2358, 'AI': 577, 'AY': 782, 'AD': 729, 'BJ': 1462, 'BP': 1825, 'AP': 2183, 'BC': 280, 'BM': 2378, 'AJ': 3519, 'BH': 2698, 'BE': 2748, 'BY': 2646, 'CD': 1401, 'AZ': 957}\n",
      "BT\n",
      "4398\n"
     ]
    }
   ],
   "source": [
    "output_dictionary = {}\n",
    "\n",
    "for key, value in points_closer.items():\n",
    "    if key != \".\":\n",
    "        flags = [is_touching_edge(v, (0, 499)) for v in value]\n",
    "        if True not in flags:\n",
    "            output_dictionary[key] = len(value)\n",
    "            \n",
    "print(output_dictionary)\n",
    "max_output = max(output_dictionary, key=output_dictionary.get)\n",
    "print(max_output)\n",
    "print(output_dictionary[max_output])"
   ]
  },
  {
   "cell_type": "markdown",
   "metadata": {},
   "source": [
    "## Part two"
   ]
  },
  {
   "cell_type": "markdown",
   "metadata": {},
   "source": [
    "On the other hand, if the coordinates are safe, maybe the best you can do is try to find a region near as many coordinates as possible.\n",
    "\n",
    "For example, suppose you want the sum of the Manhattan distance to all of the coordinates to be less than 32. For each location, add up the distances to all of the given coordinates; if the total of those distances is less than 32, that location is within the desired region. Using the same coordinates as above, the resulting region looks like this:\n",
    "\n",
    "    ..........\n",
    "    .A........\n",
    "    ..........\n",
    "    ...###..C.\n",
    "    ..#D###...\n",
    "    ..###E#...\n",
    "    .B.###....\n",
    "    ..........\n",
    "    ..........\n",
    "    ........F.\n",
    "\n",
    "In particular, consider the highlighted location 4,3 located at the top middle of the region. Its calculation is as follows, where abs() is the absolute value function:\n",
    "\n",
    "    Distance to coordinate A: abs(4-1) + abs(3-1) =  5\n",
    "    Distance to coordinate B: abs(4-1) + abs(3-6) =  6\n",
    "    Distance to coordinate C: abs(4-8) + abs(3-3) =  4\n",
    "    Distance to coordinate D: abs(4-3) + abs(3-4) =  2\n",
    "    Distance to coordinate E: abs(4-5) + abs(3-5) =  3\n",
    "    Distance to coordinate F: abs(4-8) + abs(3-9) = 10\n",
    "    Total distance: 5 + 6 + 4 + 2 + 3 + 10 = 30\n",
    "\n",
    "Because the total distance to all coordinates `(30)` is less than `32`, the location is within the region.\n",
    "\n",
    "This region, which also includes coordinates D and E, has a total size of `16`.\n",
    "\n",
    "Your actual region will need to be much larger than this example, though, instead including all locations with a total distance of less than `10000`.\n",
    "\n",
    "What is the size of the region containing all locations which have a total distance to all given coordinates of less than `10000`?"
   ]
  },
  {
   "cell_type": "code",
   "execution_count": 121,
   "metadata": {},
   "outputs": [
    {
     "name": "stdout",
     "output_type": "stream",
     "text": [
      "39560\n"
     ]
    }
   ],
   "source": [
    "# input_points = [\n",
    "#     (1, 1),\n",
    "#     (6, 1),\n",
    "#     (3, 8),\n",
    "#     (4, 3),\n",
    "#     (5, 5),\n",
    "#     (9, 8),\n",
    "# ]\n",
    "\n",
    "output_list = []\n",
    "\n",
    "for i in range(500):\n",
    "    for j in range(500):\n",
    "        total_distance = 0\n",
    "        for point in input_points:\n",
    "            total_distance += manhattan_distance(point, (i, j))\n",
    "        if total_distance < 10000:\n",
    "            output_list.append((i, j))\n",
    "            \n",
    "print(len(output_list))"
   ]
  }
 ],
 "metadata": {
  "kernelspec": {
   "display_name": "Python 3",
   "language": "python",
   "name": "python3"
  },
  "language_info": {
   "codemirror_mode": {
    "name": "ipython",
    "version": 3
   },
   "file_extension": ".py",
   "mimetype": "text/x-python",
   "name": "python",
   "nbconvert_exporter": "python",
   "pygments_lexer": "ipython3",
   "version": "3.6.5"
  }
 },
 "nbformat": 4,
 "nbformat_minor": 2
}
