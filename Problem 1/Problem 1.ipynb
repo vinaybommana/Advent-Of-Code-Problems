{
 "cells": [
  {
   "cell_type": "code",
   "execution_count": 8,
   "metadata": {},
   "outputs": [],
   "source": [
    "# problem one\n",
    "def get_lines_from_input_file(filename):\n",
    "    rows = []\n",
    "    with open(filename) as f:\n",
    "        for line in f:\n",
    "            rows.append(line)\n",
    "\n",
    "    return rows\n",
    "\n",
    "# get_lines_from_input_file('input_1.txt')"
   ]
  },
  {
   "cell_type": "code",
   "execution_count": 2,
   "metadata": {},
   "outputs": [],
   "source": [
    "def find_answers(rows):\n",
    "    answer = 0\n",
    "    for element in rows:\n",
    "        operator = element[0]\n",
    "        value = element[1:]\n",
    "        if operator == \"+\":\n",
    "            answer += int(value)\n",
    "        elif operator == \"-\":\n",
    "            answer -= int(value)\n",
    "        else:\n",
    "            print(operator, value)\n",
    "    return answer"
   ]
  },
  {
   "cell_type": "code",
   "execution_count": 3,
   "metadata": {},
   "outputs": [],
   "source": [
    "def main():\n",
    "    print(find_answers(get_lines_from_input_file('input_1.txt')))"
   ]
  },
  {
   "cell_type": "code",
   "execution_count": 4,
   "metadata": {},
   "outputs": [
    {
     "name": "stdout",
     "output_type": "stream",
     "text": [
      "516\n"
     ]
    }
   ],
   "source": [
    "main()"
   ]
  },
  {
   "cell_type": "markdown",
   "metadata": {},
   "source": [
    "## Part two"
   ]
  },
  {
   "cell_type": "markdown",
   "metadata": {},
   "source": [
    "You notice that the device repeats the same frequency change list over and over. To calibrate the device, you need to find the first frequency it reaches twice.\n",
    "\n",
    "For example, using the same list of changes above, the device would loop as follows:\n",
    "\n",
    "    Current frequency  0, change of +1; resulting frequency  1.\n",
    "    Current frequency  1, change of -2; resulting frequency -1.\n",
    "    Current frequency -1, change of +3; resulting frequency  2.\n",
    "    Current frequency  2, change of +1; resulting frequency  3.\n",
    "    (At this point, the device continues from the start of the list.)\n",
    "    Current frequency  3, change of +1; resulting frequency  4.\n",
    "    Current frequency  4, change of -2; resulting frequency  2, which has already been seen.\n",
    "\n",
    "In this example, the first frequency reached twice is 2. Note that your device might need to repeat its list of frequency changes many times before a duplicate frequency is found, and that duplicates might be found while in the middle of processing the list.\n",
    "\n",
    "Here are other examples:\n",
    "\n",
    "    +1, -1 first reaches 0 twice.\n",
    "    +3, +3, +4, -2, -4 first reaches 10 twice.\n",
    "    -6, +3, +8, +5, -6 first reaches 5 twice.\n",
    "    +7, +7, -2, -7, -4 first reaches 14 twice.\n",
    "\n",
    "What is the first frequency your device reaches twice?"
   ]
  },
  {
   "cell_type": "code",
   "execution_count": 24,
   "metadata": {},
   "outputs": [
    {
     "name": "stdout",
     "output_type": "stream",
     "text": [
      "71892\n"
     ]
    }
   ],
   "source": [
    "from itertools import cycle\n",
    "output_list = []\n",
    "output = 0\n",
    "rows = get_lines_from_input_file(\"input_1.txt\")\n",
    "# print(rows)\n",
    "\n",
    "for row in cycle(rows):\n",
    "    row = row.strip(\"\\n\")\n",
    "    operator = row[0]\n",
    "    number = int(row[1:])\n",
    "    if operator == \"+\":\n",
    "        output += number\n",
    "    if operator == \"-\":\n",
    "        output -= number\n",
    "    if output not in output_list:\n",
    "        output_list.append(output)\n",
    "    else:\n",
    "        print(output)\n",
    "        break"
   ]
  }
 ],
 "metadata": {
  "kernelspec": {
   "display_name": "Python 3",
   "language": "python",
   "name": "python3"
  },
  "language_info": {
   "codemirror_mode": {
    "name": "ipython",
    "version": 3
   },
   "file_extension": ".py",
   "mimetype": "text/x-python",
   "name": "python",
   "nbconvert_exporter": "python",
   "pygments_lexer": "ipython3",
   "version": "3.6.5"
  }
 },
 "nbformat": 4,
 "nbformat_minor": 2
}
