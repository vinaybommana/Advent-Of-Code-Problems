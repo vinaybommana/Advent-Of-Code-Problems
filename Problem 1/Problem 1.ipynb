{
 "cells": [
  {
   "cell_type": "code",
   "execution_count": 1,
   "metadata": {},
   "outputs": [
    {
     "name": "stdout",
     "output_type": "stream",
     "text": [
      "516\n"
     ]
    }
   ],
   "source": [
    "# problem one\n",
    "def get_lines_from_input_file(filename):\n",
    "    rows = []\n",
    "    with open(filename) as f:\n",
    "        for line in f:\n",
    "            rows.append(line)\n",
    "\n",
    "    return rows"
   ]
  },
  {
   "cell_type": "code",
   "execution_count": null,
   "metadata": {},
   "outputs": [],
   "source": [
    "def find_answers(rows):\n",
    "    answer = 0\n",
    "    for element in rows:\n",
    "        operator = element[0]\n",
    "        value = element[1:]\n",
    "        if operator == \"+\":\n",
    "            answer += int(value)\n",
    "        elif operator == \"-\":\n",
    "            answer -= int(value)\n",
    "        else:\n",
    "            print(operator, value)\n",
    "    return answer"
   ]
  },
  {
   "cell_type": "code",
   "execution_count": null,
   "metadata": {},
   "outputs": [],
   "source": [
    "def main():\n",
    "    print(find_answers(get_lines_from_input_file('input_1.txt')))"
   ]
  },
  {
   "cell_type": "code",
   "execution_count": null,
   "metadata": {},
   "outputs": [],
   "source": [
    "main()"
   ]
  }
 ],
 "metadata": {
  "kernelspec": {
   "display_name": "Python 3",
   "language": "python",
   "name": "python3"
  },
  "language_info": {
   "codemirror_mode": {
    "name": "ipython",
    "version": 3
   },
   "file_extension": ".py",
   "mimetype": "text/x-python",
   "name": "python",
   "nbconvert_exporter": "python",
   "pygments_lexer": "ipython3",
   "version": "3.6.5"
  }
 },
 "nbformat": 4,
 "nbformat_minor": 2
}
