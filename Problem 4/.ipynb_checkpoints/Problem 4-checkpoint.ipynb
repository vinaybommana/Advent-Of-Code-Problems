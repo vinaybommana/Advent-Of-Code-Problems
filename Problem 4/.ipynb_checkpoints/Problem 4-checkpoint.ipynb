{
 "cells": [
  {
   "cell_type": "markdown",
   "metadata": {},
   "source": [
    "For example, consider the following records, which have already been organized into chronological order:\n",
    "\n",
    "```\n",
    "[1518-11-01 00:00] Guard #10 begins shift\n",
    "[1518-11-01 00:05] falls asleep\n",
    "[1518-11-01 00:25] wakes up\n",
    "[1518-11-01 00:30] falls asleep\n",
    "[1518-11-01 00:55] wakes up\n",
    "[1518-11-01 23:58] Guard #99 begins shift\n",
    "[1518-11-02 00:40] falls asleep\n",
    "[1518-11-02 00:50] wakes up\n",
    "[1518-11-03 00:05] Guard #10 begins shift\n",
    "[1518-11-03 00:24] falls asleep\n",
    "[1518-11-03 00:29] wakes up\n",
    "[1518-11-04 00:02] Guard #99 begins shift\n",
    "[1518-11-04 00:36] falls asleep\n",
    "[1518-11-04 00:46] wakes up\n",
    "[1518-11-05 00:03] Guard #99 begins shift\n",
    "[1518-11-05 00:45] falls asleep\n",
    "[1518-11-05 00:55] wakes up\n",
    "\n",
    "```\n",
    "\n",
    "Timestamps are written using year-month-day hour:minute format. The guard falling asleep or waking up is always the one whose shift most recently started. Because all asleep/awake times are during the midnight hour (00:00 - 00:59), only the minute portion (00 - 59) is relevant for those events.\n",
    "\n",
    "Visually, these records show that the guards are asleep at these times:\n",
    "\n",
    "```\n",
    "Date   ID   Minute\n",
    "            000000000011111111112222222222333333333344444444445555555555\n",
    "            012345678901234567890123456789012345678901234567890123456789\n",
    "11-01  #10  .....####################.....#########################.....\n",
    "11-02  #99  ........................................##########..........\n",
    "11-03  #10  ........................#####...............................\n",
    "11-04  #99  ....................................##########..............\n",
    "11-05  #99  .............................................##########.....\n",
    "```\n",
    "\n",
    "The columns are Date, which shows the month-day portion of the relevant day; ID, which shows the guard on duty that day; and Minute, which shows the minutes during which the guard was asleep within the midnight hour. (The Minute column's header shows the minute's ten's digit in the first row and the one's digit in the second row.) Awake is shown as ., and asleep is shown as #.\n",
    "\n",
    "Note that guards count as asleep on the minute they fall asleep, and they count as awake on the minute they wake up. For example, because Guard #10 wakes up at 00:25 on 1518-11-01, minute 25 is marked as awake.\n",
    "\n",
    "If you can figure out the guard most likely to be asleep at a specific time, you might be able to trick that guard into working tonight so you can have the best chance of sneaking in. You have two strategies for choosing the best guard/minute combination."
   ]
  },
  {
   "cell_type": "code",
   "execution_count": 1,
   "metadata": {},
   "outputs": [],
   "source": [
    "def read_input_file(filename):\n",
    "    with open(filename) as f:\n",
    "        for line in f:\n",
    "            yield line"
   ]
  },
  {
   "cell_type": "code",
   "execution_count": 5,
   "metadata": {},
   "outputs": [],
   "source": [
    "lines = []\n",
    "for line in read_input_file(\"input_4.txt\"):\n",
    "    lines.append(line)"
   ]
  },
  {
   "cell_type": "code",
   "execution_count": 18,
   "metadata": {},
   "outputs": [
    {
     "data": {
      "text/plain": [
       "['07-04 00:01', 'falls asleep']"
      ]
     },
     "execution_count": 18,
     "metadata": {},
     "output_type": "execute_result"
    }
   ],
   "source": [
    "def seperate_dates_n_strings(line):\n",
    "    string = line.split(\"] \")\n",
    "    date = string[0]\n",
    "    work = string[1].strip(\"\\n\")\n",
    "    date = date.strip(\"[\")\n",
    "    # removing year\n",
    "    date = date.split(\"-\", 1)[1] # splitting with first occurence of \"-\"\n",
    "    return [date, work]\n",
    "    \n",
    "seperate_dates_n_strings(\"[1518-07-04 00:01] falls asleep\")"
   ]
  },
  {
   "cell_type": "code",
   "execution_count": 115,
   "metadata": {},
   "outputs": [
    {
     "name": "stdout",
     "output_type": "stream",
     "text": [
      "[['#773 begins shift', '03-31 00:17 falls asleep', '03-31 00:42 wakes up'], ['#2963 begins shift', '04-01 00:04 falls asleep', '04-01 00:42 wakes up'], ['#643 begins shift', '04-02 00:05 falls asleep', '04-02 00:13 wakes up'], ['#643 begins shift', '04-03 00:04 falls asleep', '04-03 00:36 wakes up', '04-03 00:46 falls asleep', '04-03 00:57 wakes up'], ['#1129 begins shift', '04-04 00:10 falls asleep', '04-04 00:46 wakes up', '04-04 00:54 falls asleep', '04-04 00:55 wakes up'], ['#101 begins shift', '04-05 00:41 falls asleep', '04-05 00:57 wakes up'], ['#811 begins shift', '04-06 00:07 falls asleep', '04-06 00:15 wakes up', '04-06 00:43 falls asleep', '04-06 00:54 wakes up'], ['#449 begins shift', '04-07 00:12 falls asleep', '04-07 00:58 wakes up'], ['#1049 begins shift', '04-08 00:02 falls asleep', '04-08 00:41 wakes up', '04-08 00:45 falls asleep', '04-08 00:49 wakes up'], ['#643 begins shift', '04-09 00:14 falls asleep', '04-09 00:28 wakes up', '04-09 00:36 falls asleep', '04-09 00:38 wakes up'], ['#643 begins shift', '04-10 00:04 falls asleep', '04-10 00:26 wakes up', '04-10 00:41 falls asleep', '04-10 00:44 wakes up'], ['#811 begins shift', '04-11 00:04 falls asleep', '04-11 00:15 wakes up'], ['#2963 begins shift', '04-12 00:25 falls asleep', '04-12 00:54 wakes up'], ['#613 begins shift', '04-13 00:35 falls asleep', '04-13 00:41 wakes up'], ['#811 begins shift', '04-14 00:37 falls asleep', '04-14 00:40 wakes up', '04-14 00:48 falls asleep', '04-14 00:54 wakes up', '04-14 00:57 falls asleep', '04-14 00:59 wakes up'], ['#3023 begins shift', '04-15 00:10 falls asleep', '04-15 00:19 wakes up', '04-15 00:22 falls asleep', '04-15 00:56 wakes up'], ['#197 begins shift', '04-16 00:09 falls asleep', '04-16 00:51 wakes up', '04-16 00:55 falls asleep', '04-16 00:58 wakes up'], ['#613 begins shift', '04-17 00:28 falls asleep', '04-17 00:36 wakes up', '04-17 00:44 falls asleep', '04-17 00:54 wakes up'], ['#757 begins shift'], ['#613 begins shift', '04-19 00:13 falls asleep', '04-19 00:18 wakes up', '04-19 00:34 falls asleep', '04-19 00:47 wakes up', '04-19 00:52 falls asleep', '04-19 00:57 wakes up'], ['#2297 begins shift', '04-20 00:22 falls asleep', '04-20 00:25 wakes up', '04-20 00:42 falls asleep', '04-20 00:50 wakes up'], ['#353 begins shift', '04-21 00:51 falls asleep', '04-21 00:58 wakes up'], ['#811 begins shift', '04-22 00:04 falls asleep', '04-22 00:23 wakes up', '04-22 00:38 falls asleep', '04-22 00:49 wakes up'], ['#2333 begins shift', '04-23 00:00 falls asleep', '04-23 00:17 wakes up', '04-23 00:51 falls asleep', '04-23 00:54 wakes up'], ['#353 begins shift', '04-24 00:41 falls asleep', '04-24 00:52 wakes up'], ['#1049 begins shift', '04-25 00:25 falls asleep', '04-25 00:27 wakes up', '04-25 00:44 falls asleep', '04-25 00:50 wakes up', '04-25 00:53 falls asleep', '04-25 00:57 wakes up'], ['#2963 begins shift', '04-26 00:18 falls asleep', '04-26 00:50 wakes up', '04-26 00:53 falls asleep', '04-26 00:56 wakes up'], ['#1117 begins shift', '04-27 00:04 falls asleep', '04-27 00:15 wakes up', '04-27 00:41 falls asleep', '04-27 00:57 wakes up'], ['#197 begins shift', '04-28 00:01 falls asleep', '04-28 00:54 wakes up'], ['#773 begins shift', '04-29 00:17 falls asleep', '04-29 00:59 wakes up'], ['#1657 begins shift', '04-30 00:10 falls asleep', '04-30 00:38 wakes up', '04-30 00:52 falls asleep', '04-30 00:58 wakes up'], ['#101 begins shift', '05-01 00:10 falls asleep', '05-01 00:58 wakes up'], ['#1129 begins shift', '05-02 00:40 falls asleep', '05-02 00:51 wakes up'], ['#1217 begins shift', '05-03 00:11 falls asleep', '05-03 00:34 wakes up', '05-03 00:39 falls asleep', '05-03 00:41 wakes up'], ['#1129 begins shift', '05-04 00:07 falls asleep', '05-04 00:59 wakes up'], ['#2789 begins shift', '05-05 00:33 falls asleep', '05-05 00:38 wakes up', '05-05 00:49 falls asleep', '05-05 00:59 wakes up'], ['#353 begins shift', '05-06 00:42 falls asleep', '05-06 00:56 wakes up'], ['#2789 begins shift', '05-07 00:03 falls asleep', '05-07 00:17 wakes up', '05-07 00:21 falls asleep', '05-07 00:35 wakes up'], ['#449 begins shift', '05-08 00:23 falls asleep', '05-08 00:59 wakes up'], ['#2789 begins shift', '05-09 00:28 falls asleep', '05-09 00:48 wakes up'], ['#1657 begins shift', '05-10 00:09 falls asleep', '05-10 00:13 wakes up', '05-10 00:42 falls asleep', '05-10 00:46 wakes up', '05-10 00:55 falls asleep', '05-10 00:57 wakes up'], ['#1049 begins shift', '05-11 00:31 falls asleep', '05-11 00:33 wakes up'], ['#643 begins shift', '05-12 00:02 falls asleep', '05-12 00:28 wakes up', '05-12 00:42 falls asleep', '05-12 00:51 wakes up', '05-12 00:55 falls asleep', '05-12 00:58 wakes up'], ['#1117 begins shift', '05-13 00:04 falls asleep', '05-13 00:25 wakes up', '05-13 00:39 falls asleep', '05-13 00:47 wakes up'], ['#449 begins shift', '05-14 00:32 falls asleep', '05-14 00:50 wakes up', '05-14 00:57 falls asleep', '05-14 00:58 wakes up'], ['#857 begins shift'], ['#3163 begins shift', '05-16 00:14 falls asleep', '05-16 00:22 wakes up'], ['#811 begins shift', '05-17 00:06 falls asleep', '05-17 00:13 wakes up', '05-17 00:21 falls asleep', '05-17 00:47 wakes up'], ['#3163 begins shift', '05-18 00:10 falls asleep', '05-18 00:19 wakes up', '05-18 00:40 falls asleep', '05-18 00:41 wakes up'], ['#277 begins shift', '05-19 00:35 falls asleep', '05-19 00:50 wakes up'], ['#353 begins shift', '05-20 00:10 falls asleep', '05-20 00:40 wakes up'], ['#773 begins shift', '05-21 00:20 falls asleep', '05-21 00:37 wakes up'], ['#1049 begins shift', '05-22 00:02 falls asleep', '05-22 00:33 wakes up', '05-22 00:49 falls asleep', '05-22 00:55 wakes up'], ['#1217 begins shift', '05-23 00:20 falls asleep', '05-23 00:43 wakes up', '05-23 00:51 falls asleep', '05-23 00:59 wakes up'], ['#101 begins shift', '05-24 00:27 falls asleep', '05-24 00:46 wakes up'], ['#1049 begins shift', '05-25 00:26 falls asleep', '05-25 00:28 wakes up', '05-25 00:33 falls asleep', '05-25 00:39 wakes up'], ['#2789 begins shift', '05-26 00:37 falls asleep', '05-26 00:47 wakes up'], ['#1049 begins shift', '05-27 00:08 falls asleep', '05-27 00:09 wakes up', '05-27 00:35 falls asleep', '05-27 00:52 wakes up', '05-27 00:56 falls asleep', '05-27 00:59 wakes up'], ['#2297 begins shift', '05-28 00:14 falls asleep', '05-28 00:20 wakes up', '05-28 00:30 falls asleep', '05-28 00:59 wakes up'], ['#1117 begins shift', '05-29 00:57 falls asleep', '05-29 00:58 wakes up'], ['#1129 begins shift', '05-30 00:09 falls asleep', '05-30 00:22 wakes up', '05-30 00:39 falls asleep', '05-30 00:48 wakes up'], ['#2963 begins shift', '05-31 00:02 falls asleep', '05-31 00:56 wakes up'], ['#2789 begins shift', '06-01 00:02 falls asleep', '06-01 00:41 wakes up'], ['#449 begins shift', '06-02 00:13 falls asleep', '06-02 00:23 wakes up', '06-02 00:36 falls asleep', '06-02 00:45 wakes up'], ['#3023 begins shift', '06-03 00:40 falls asleep', '06-03 00:47 wakes up'], ['#277 begins shift', '06-04 00:24 falls asleep', '06-04 00:53 wakes up'], ['#2333 begins shift', '06-05 00:53 falls asleep', '06-05 00:54 wakes up'], ['#1657 begins shift', '06-06 00:45 falls asleep', '06-06 00:46 wakes up'], ['#2789 begins shift', '06-07 00:32 falls asleep', '06-07 00:37 wakes up', '06-07 00:51 falls asleep', '06-07 00:53 wakes up'], ['#2789 begins shift', '06-08 00:30 falls asleep', '06-08 00:35 wakes up'], ['#2963 begins shift', '06-09 00:41 falls asleep', '06-09 00:53 wakes up'], ['#811 begins shift', '06-10 00:13 falls asleep', '06-10 00:38 wakes up', '06-10 00:50 falls asleep', '06-10 00:57 wakes up'], ['#1217 begins shift', '06-11 00:07 falls asleep', '06-11 00:31 wakes up'], ['#277 begins shift', '06-12 00:40 falls asleep', '06-12 00:41 wakes up', '06-12 00:47 falls asleep', '06-12 00:48 wakes up'], ['#449 begins shift', '06-13 00:38 falls asleep', '06-13 00:59 wakes up'], ['#101 begins shift', '06-14 00:05 falls asleep', '06-14 00:54 wakes up'], ['#1129 begins shift', '06-15 00:16 falls asleep', '06-15 00:57 wakes up'], ['#2297 begins shift', '06-16 00:45 falls asleep', '06-16 00:50 wakes up'], ['#773 begins shift', '06-17 00:15 falls asleep', '06-17 00:28 wakes up', '06-17 00:31 falls asleep', '06-17 00:35 wakes up'], ['#2789 begins shift', '06-18 00:36 falls asleep', '06-18 00:48 wakes up'], ['#233 begins shift'], ['#449 begins shift', '06-20 00:57 falls asleep', '06-20 00:58 wakes up'], ['#353 begins shift', '06-21 00:28 falls asleep', '06-21 00:29 wakes up', '06-21 00:49 falls asleep', '06-21 00:55 wakes up'], ['#773 begins shift', '06-22 00:09 falls asleep', '06-22 00:46 wakes up', '06-22 00:49 falls asleep', '06-22 00:59 wakes up'], ['#1217 begins shift', '06-23 00:24 falls asleep', '06-23 00:54 wakes up'], ['#2789 begins shift', '06-24 00:31 falls asleep', '06-24 00:36 wakes up'], ['#2333 begins shift', '06-25 00:46 falls asleep', '06-25 00:57 wakes up'], ['#277 begins shift', '06-26 00:11 falls asleep', '06-26 00:29 wakes up', '06-26 00:38 falls asleep', '06-26 00:45 wakes up'], ['#1217 begins shift', '06-27 00:25 falls asleep', '06-27 00:42 wakes up'], ['#197 begins shift', '06-28 00:18 falls asleep', '06-28 00:21 wakes up'], ['#2963 begins shift', '06-29 00:34 falls asleep', '06-29 00:36 wakes up'], ['#3163 begins shift', '06-30 00:11 falls asleep', '06-30 00:44 wakes up'], ['#3023 begins shift', '07-01 00:46 falls asleep', '07-01 00:47 wakes up'], ['#277 begins shift', '07-02 00:43 falls asleep', '07-02 00:57 wakes up'], ['#857 begins shift'], ['#773 begins shift', '07-04 00:01 falls asleep', '07-04 00:07 wakes up', '07-04 00:27 falls asleep', '07-04 00:47 wakes up'], ['#1117 begins shift', '07-05 00:11 falls asleep', '07-05 00:37 wakes up'], ['#1117 begins shift', '07-06 00:17 falls asleep', '07-06 00:56 wakes up'], ['#1049 begins shift', '07-07 00:07 falls asleep', '07-07 00:54 wakes up'], ['#197 begins shift', '07-08 00:04 falls asleep', '07-08 00:17 wakes up', '07-08 00:55 falls asleep', '07-08 00:58 wakes up'], ['#449 begins shift', '07-09 00:32 falls asleep', '07-09 00:41 wakes up'], ['#2297 begins shift', '07-10 00:14 falls asleep', '07-10 00:47 wakes up'], ['#353 begins shift', '07-11 00:21 falls asleep', '07-11 00:33 wakes up'], ['#643 begins shift', '07-12 00:26 falls asleep', '07-12 00:30 wakes up', '07-12 00:43 falls asleep', '07-12 00:48 wakes up'], ['#613 begins shift', '07-13 00:18 falls asleep', '07-13 00:49 wakes up'], ['#1217 begins shift', '07-14 00:25 falls asleep', '07-14 00:48 wakes up'], ['#2963 begins shift', '07-15 00:05 falls asleep', '07-15 00:24 wakes up', '07-15 00:45 falls asleep', '07-15 00:59 wakes up'], ['#2297 begins shift', '07-16 00:07 falls asleep', '07-16 00:27 wakes up'], ['#2789 begins shift', '07-17 00:13 falls asleep', '07-17 00:58 wakes up'], ['#2297 begins shift', '07-18 00:02 falls asleep', '07-18 00:13 wakes up', '07-18 00:47 falls asleep', '07-18 00:52 wakes up'], ['#1049 begins shift', '07-19 00:24 falls asleep', '07-19 00:33 wakes up', '07-19 00:36 falls asleep', '07-19 00:43 wakes up', '07-19 00:46 falls asleep', '07-19 00:57 wakes up'], ['#773 begins shift', '07-20 00:23 falls asleep', '07-20 00:41 wakes up', '07-20 00:48 falls asleep', '07-20 00:57 wakes up'], ['#277 begins shift', '07-21 00:09 falls asleep', '07-21 00:48 wakes up'], ['#277 begins shift', '07-22 00:06 falls asleep', '07-22 00:21 wakes up'], ['#449 begins shift', '07-23 00:01 falls asleep', '07-23 00:22 wakes up', '07-23 00:28 falls asleep', '07-23 00:45 wakes up', '07-23 00:48 falls asleep', '07-23 00:58 wakes up'], ['#2297 begins shift', '07-24 00:26 falls asleep', '07-24 00:57 wakes up'], ['#1049 begins shift', '07-25 00:34 falls asleep', '07-25 00:36 wakes up', '07-25 00:45 falls asleep', '07-25 00:55 wakes up'], ['#1657 begins shift', '07-26 00:03 falls asleep', '07-26 00:40 wakes up', '07-26 00:57 falls asleep', '07-26 00:58 wakes up'], ['#2333 begins shift', '07-27 00:31 falls asleep', '07-27 00:48 wakes up', '07-27 00:53 falls asleep', '07-27 00:55 wakes up'], ['#2789 begins shift', '07-28 00:31 falls asleep', '07-28 00:58 wakes up'], ['#811 begins shift', '07-29 00:12 falls asleep', '07-29 00:37 wakes up', '07-29 00:44 falls asleep', '07-29 00:56 wakes up'], ['#1217 begins shift', '07-30 00:27 falls asleep', '07-30 00:50 wakes up', '07-30 00:54 falls asleep', '07-30 00:59 wakes up'], ['#757 begins shift'], ['#643 begins shift', '08-01 00:15 falls asleep', '08-01 00:17 wakes up', '08-01 00:40 falls asleep', '08-01 00:58 wakes up'], ['#2963 begins shift', '08-02 00:29 falls asleep', '08-02 00:43 wakes up'], ['#1049 begins shift', '08-03 00:11 falls asleep', '08-03 00:45 wakes up'], ['#277 begins shift', '08-04 00:41 falls asleep', '08-04 00:44 wakes up', '08-04 00:48 falls asleep', '08-04 00:51 wakes up'], ['#1049 begins shift', '08-05 00:34 falls asleep', '08-05 00:36 wakes up'], ['#101 begins shift', '08-06 00:42 falls asleep', '08-06 00:57 wakes up'], ['#2297 begins shift', '08-07 00:02 falls asleep', '08-07 00:07 wakes up'], ['#1217 begins shift', '08-08 00:29 falls asleep', '08-08 00:46 wakes up', '08-08 00:53 falls asleep', '08-08 00:55 wakes up'], ['#2789 begins shift', '08-09 00:12 falls asleep', '08-09 00:35 wakes up'], ['#2963 begins shift', '08-10 00:04 falls asleep', '08-10 00:13 wakes up', '08-10 00:44 falls asleep', '08-10 00:47 wakes up'], ['#643 begins shift', '08-11 00:13 falls asleep', '08-11 00:39 wakes up'], ['#1117 begins shift', '08-12 00:08 falls asleep', '08-12 00:52 wakes up'], ['#2789 begins shift', '08-13 00:05 falls asleep', '08-13 00:06 wakes up', '08-13 00:27 falls asleep', '08-13 00:42 wakes up'], ['#101 begins shift', '08-14 00:40 falls asleep', '08-14 00:45 wakes up'], ['#857 begins shift'], ['#2789 begins shift', '08-16 00:29 falls asleep', '08-16 00:53 wakes up'], ['#613 begins shift', '08-17 00:42 falls asleep', '08-17 00:47 wakes up', '08-17 00:56 falls asleep', '08-17 00:58 wakes up'], ['#3023 begins shift', '08-18 00:00 falls asleep', '08-18 00:13 wakes up', '08-18 00:42 falls asleep', '08-18 00:47 wakes up'], ['#613 begins shift', '08-19 00:02 falls asleep', '08-19 00:10 wakes up', '08-19 00:31 falls asleep', '08-19 00:56 wakes up'], ['#613 begins shift', '08-20 00:38 falls asleep', '08-20 00:51 wakes up'], ['#613 begins shift', '08-21 00:11 falls asleep', '08-21 00:35 wakes up', '08-21 00:40 falls asleep', '08-21 00:46 wakes up'], ['#811 begins shift', '08-22 00:21 falls asleep', '08-22 00:22 wakes up', '08-22 00:33 falls asleep', '08-22 00:47 wakes up', '08-22 00:56 falls asleep', '08-22 00:58 wakes up'], ['#2333 begins shift', '08-23 00:53 falls asleep', '08-23 00:55 wakes up'], ['#643 begins shift', '08-24 00:32 falls asleep', '08-24 00:54 wakes up', '08-24 00:57 falls asleep', '08-24 00:58 wakes up'], ['#277 begins shift', '08-25 00:15 falls asleep', '08-25 00:47 wakes up'], ['#2297 begins shift', '08-26 00:24 falls asleep', '08-26 00:26 wakes up', '08-26 00:31 falls asleep', '08-26 00:51 wakes up'], ['#613 begins shift', '08-27 00:45 falls asleep', '08-27 00:50 wakes up'], ['#1217 begins shift', '08-28 00:07 falls asleep', '08-28 00:32 wakes up', '08-28 00:38 falls asleep', '08-28 00:45 wakes up', '08-28 00:48 falls asleep', '08-28 00:58 wakes up'], ['#353 begins shift', '08-29 00:29 falls asleep', '08-29 00:53 wakes up'], ['#773 begins shift', '08-30 00:33 falls asleep', '08-30 00:35 wakes up', '08-30 00:46 falls asleep', '08-30 00:50 wakes up', '08-30 00:54 falls asleep', '08-30 00:58 wakes up'], ['#1117 begins shift', '08-31 00:31 falls asleep', '08-31 00:43 wakes up', '08-31 00:46 falls asleep', '08-31 00:56 wakes up'], ['#857 begins shift'], ['#773 begins shift', '09-02 00:42 falls asleep', '09-02 00:52 wakes up'], ['#3163 begins shift', '09-03 00:18 falls asleep', '09-03 00:20 wakes up', '09-03 00:32 falls asleep', '09-03 00:46 wakes up'], ['#277 begins shift', '09-04 00:39 falls asleep', '09-04 00:50 wakes up'], ['#3163 begins shift', '09-05 00:43 falls asleep', '09-05 00:45 wakes up', '09-05 00:48 falls asleep', '09-05 00:57 wakes up'], ['#101 begins shift', '09-06 00:29 falls asleep', '09-06 00:46 wakes up'], ['#773 begins shift', '09-07 00:02 falls asleep', '09-07 00:03 wakes up', '09-07 00:23 falls asleep', '09-07 00:53 wakes up'], ['#2333 begins shift', '09-08 00:42 falls asleep', '09-08 00:46 wakes up', '09-08 00:49 falls asleep', '09-08 00:56 wakes up'], ['#2963 begins shift', '09-09 00:37 falls asleep', '09-09 00:38 wakes up', '09-09 00:43 falls asleep', '09-09 00:46 wakes up', '09-09 00:55 falls asleep', '09-09 00:58 wakes up'], ['#1117 begins shift', '09-10 00:05 falls asleep', '09-10 00:12 wakes up', '09-10 00:50 falls asleep', '09-10 00:59 wakes up'], ['#2963 begins shift', '09-11 00:15 falls asleep', '09-11 00:40 wakes up'], ['#1049 begins shift', '09-12 00:36 falls asleep', '09-12 00:58 wakes up'], ['#857 begins shift'], ['#2297 begins shift', '09-14 00:16 falls asleep', '09-14 00:24 wakes up', '09-14 00:47 falls asleep', '09-14 00:58 wakes up'], ['#1217 begins shift', '09-15 00:29 falls asleep', '09-15 00:41 wakes up', '09-15 00:51 falls asleep', '09-15 00:55 wakes up'], ['#1117 begins shift', '09-16 00:57 falls asleep', '09-16 00:58 wakes up'], ['#1117 begins shift', '09-17 00:36 falls asleep', '09-17 00:39 wakes up'], ['#233 begins shift'], ['#1117 begins shift', '09-19 00:45 falls asleep', '09-19 00:46 wakes up', '09-19 00:52 falls asleep', '09-19 00:55 wakes up'], ['#811 begins shift', '09-20 00:27 falls asleep', '09-20 00:30 wakes up', '09-20 00:36 falls asleep', '09-20 00:54 wakes up'], ['#773 begins shift', '09-21 00:11 falls asleep', '09-21 00:16 wakes up', '09-21 00:47 falls asleep', '09-21 00:53 wakes up'], ['#197 begins shift', '09-22 00:16 falls asleep', '09-22 00:54 wakes up'], ['#2789 begins shift', '09-23 00:26 falls asleep', '09-23 00:49 wakes up'], ['#277 begins shift', '09-24 00:10 falls asleep', '09-24 00:35 wakes up', '09-24 00:40 falls asleep', '09-24 00:59 wakes up'], ['#2297 begins shift', '09-25 00:05 falls asleep', '09-25 00:17 wakes up', '09-25 00:38 falls asleep', '09-25 00:39 wakes up'], ['#197 begins shift', '09-26 00:07 falls asleep', '09-26 00:28 wakes up', '09-26 00:35 falls asleep', '09-26 00:42 wakes up', '09-26 00:49 falls asleep', '09-26 00:50 wakes up'], ['#1217 begins shift', '09-27 00:16 falls asleep', '09-27 00:52 wakes up'], ['#233 begins shift'], ['#277 begins shift', '09-29 00:10 falls asleep', '09-29 00:17 wakes up', '09-29 00:22 falls asleep', '09-29 00:26 wakes up'], ['#1217 begins shift', '09-30 00:35 falls asleep', '09-30 00:53 wakes up'], ['#353 begins shift', '10-01 00:27 falls asleep', '10-01 00:30 wakes up'], ['#233 begins shift'], ['#773 begins shift', '10-03 00:37 falls asleep', '10-03 00:39 wakes up'], ['#643 begins shift', '10-04 00:00 falls asleep', '10-04 00:57 wakes up'], ['#353 begins shift', '10-05 00:05 falls asleep', '10-05 00:21 wakes up'], ['#643 begins shift', '10-06 00:38 falls asleep', '10-06 00:45 wakes up'], ['#1129 begins shift', '10-07 00:03 falls asleep', '10-07 00:42 wakes up', '10-07 00:54 falls asleep', '10-07 00:57 wakes up'], ['#1217 begins shift', '10-08 00:06 falls asleep', '10-08 00:29 wakes up', '10-08 00:40 falls asleep', '10-08 00:52 wakes up'], ['#1217 begins shift', '10-09 00:00 falls asleep', '10-09 00:56 wakes up'], ['#277 begins shift', '10-10 00:20 falls asleep', '10-10 00:47 wakes up', '10-10 00:50 falls asleep', '10-10 00:51 wakes up'], ['#1049 begins shift', '10-11 00:11 falls asleep', '10-11 00:13 wakes up', '10-11 00:24 falls asleep', '10-11 00:33 wakes up'], ['#101 begins shift', '10-12 00:21 falls asleep', '10-12 00:30 wakes up', '10-12 00:43 falls asleep', '10-12 00:53 wakes up'], ['#2297 begins shift', '10-13 00:20 falls asleep', '10-13 00:27 wakes up', '10-13 00:50 falls asleep', '10-13 00:58 wakes up'], ['#1049 begins shift', '10-14 00:36 falls asleep', '10-14 00:50 wakes up'], ['#773 begins shift', '10-15 00:17 falls asleep', '10-15 00:23 wakes up'], ['#3163 begins shift', '10-16 00:10 falls asleep', '10-16 00:49 wakes up'], ['#2789 begins shift', '10-17 00:34 falls asleep', '10-17 00:46 wakes up'], ['#857 begins shift'], ['#2963 begins shift', '10-19 00:15 falls asleep', '10-19 00:51 wakes up'], ['#1217 begins shift', '10-20 00:25 falls asleep', '10-20 00:41 wakes up'], ['#101 begins shift', '10-21 00:10 falls asleep', '10-21 00:16 wakes up', '10-21 00:29 falls asleep', '10-21 00:57 wakes up'], ['#2333 begins shift', '10-22 00:31 falls asleep', '10-22 00:41 wakes up'], ['#1049 begins shift', '10-23 00:06 falls asleep', '10-23 00:43 wakes up', '10-23 00:50 falls asleep', '10-23 00:54 wakes up'], ['#197 begins shift', '10-24 00:21 falls asleep', '10-24 00:47 wakes up'], ['#101 begins shift', '10-25 00:06 falls asleep', '10-25 00:53 wakes up'], ['#1217 begins shift', '10-26 00:28 falls asleep', '10-26 00:45 wakes up'], ['#1117 begins shift', '10-27 00:32 falls asleep', '10-27 00:35 wakes up', '10-27 00:47 falls asleep', '10-27 00:55 wakes up'], ['#3023 begins shift', '10-28 00:05 falls asleep', '10-28 00:22 wakes up', '10-28 00:32 falls asleep', '10-28 00:59 wakes up'], ['#1129 begins shift', '10-29 00:20 falls asleep', '10-29 00:34 wakes up', '10-29 00:51 falls asleep', '10-29 00:57 wakes up'], ['#2963 begins shift', '10-30 00:14 falls asleep', '10-30 00:32 wakes up', '10-30 00:35 falls asleep', '10-30 00:53 wakes up'], ['#2963 begins shift', '10-31 00:09 falls asleep', '10-31 00:15 wakes up', '10-31 00:30 falls asleep', '10-31 00:44 wakes up', '10-31 00:48 falls asleep', '10-31 00:57 wakes up'], ['#1657 begins shift', '11-01 00:32 falls asleep', '11-01 00:41 wakes up', '11-01 00:54 falls asleep', '11-01 00:57 wakes up'], ['#3023 begins shift', '11-02 00:08 falls asleep', '11-02 00:55 wakes up'], ['#2297 begins shift', '11-03 00:48 falls asleep', '11-03 00:50 wakes up'], ['#2333 begins shift', '11-04 00:34 falls asleep', '11-04 00:56 wakes up'], ['#2297 begins shift', '11-05 00:10 falls asleep', '11-05 00:23 wakes up', '11-05 00:37 falls asleep', '11-05 00:55 wakes up'], ['#3163 begins shift', '11-06 00:46 falls asleep', '11-06 00:47 wakes up', '11-06 00:57 falls asleep', '11-06 00:58 wakes up'], ['#1217 begins shift', '11-07 00:01 falls asleep', '11-07 00:43 wakes up', '11-07 00:52 falls asleep', '11-07 00:59 wakes up'], ['#2297 begins shift', '11-08 00:45 falls asleep', '11-08 00:55 wakes up'], ['#2789 begins shift', '11-09 00:25 falls asleep', '11-09 00:53 wakes up'], ['#101 begins shift', '11-10 00:39 falls asleep', '11-10 00:50 wakes up'], ['#197 begins shift', '11-11 00:09 falls asleep', '11-11 00:11 wakes up', '11-11 00:22 falls asleep', '11-11 00:27 wakes up', '11-11 00:49 falls asleep', '11-11 00:57 wakes up'], ['#1049 begins shift', '11-12 00:30 falls asleep', '11-12 00:43 wakes up', '11-12 00:48 falls asleep', '11-12 00:54 wakes up'], ['#2963 begins shift', '11-13 00:34 falls asleep', '11-13 00:44 wakes up'], ['#2789 begins shift', '11-14 00:34 falls asleep', '11-14 00:39 wakes up', '11-14 00:56 falls asleep', '11-14 00:58 wakes up'], ['#643 begins shift', '11-15 00:40 falls asleep', '11-15 00:49 wakes up'], ['#2789 begins shift', '11-16 00:17 falls asleep', '11-16 00:44 wakes up'], ['#101 begins shift', '11-17 00:42 falls asleep', '11-17 00:43 wakes up', '11-17 00:50 falls asleep', '11-17 00:58 wakes up'], ['#2963 begins shift', '11-18 00:23 falls asleep', '11-18 00:57 wakes up'], ['#3023 begins shift', '11-19 00:00 falls asleep', '11-19 00:42 wakes up'], ['#2333 begins shift', '11-20 00:51 falls asleep', '11-20 00:58 wakes up'], ['#3023 begins shift', '11-21 00:01 falls asleep', '11-21 00:39 wakes up', '11-21 00:46 falls asleep', '11-21 00:58 wakes up'], ['#3023 begins shift', '11-22 00:12 falls asleep', '11-22 00:18 wakes up', '11-22 00:22 falls asleep', '11-22 00:44 wakes up'], ['#613 begins shift', '11-23 00:47 falls asleep', '11-23 00:51 wakes up']]\n"
     ]
    }
   ],
   "source": [
    "dates_n_works = []\n",
    "for line in lines:\n",
    "    dates_n_works.append(seperate_dates_n_strings(line))\n",
    "\n",
    "dates_n_works = sorted(dates_n_works, key=lambda x: x[0])\n",
    "# print(dates_n_works)\n",
    "seperation_string = \"\"\n",
    "for item in dates_n_works:\n",
    "    seperation_string += item[0] + \" \" + item[1] + \"\\n\"\n",
    "\n",
    "strings = seperation_string.split(\"Guard\")\n",
    "del strings[0]\n",
    "strings = [s.strip() for s in strings]\n",
    "\n",
    "ted_strings = []\n",
    "last_string = strings[len(strings) - 1]\n",
    "last_string = last_string.split(\"\\n\")\n",
    "for s in strings:\n",
    "    s = s.split(\"\\n\")\n",
    "    del s[len(s) - 1]\n",
    "    ted_strings.append(s)\n",
    "\n",
    "ted_strings.pop()\n",
    "ted_strings.append(last_string)\n",
    "ted_strings[len(ted_strings) - 1]\n",
    "\n",
    "# print(ted_strings)"
   ]
  },
  {
   "cell_type": "code",
   "execution_count": 74,
   "metadata": {},
   "outputs": [
    {
     "data": {
      "text/plain": [
       "{'773': ['03-31 00:17 falls asleep', '03-31 00:42 wakes up']}"
      ]
     },
     "execution_count": 74,
     "metadata": {},
     "output_type": "execute_result"
    }
   ],
   "source": [
    "import re\n",
    "\n",
    "def get_guard_id(line):\n",
    "    return re.findall(\"#[0-9]*\", line)[0].strip(\"#\")\n",
    "\n",
    "def assign_timings_to_guard_id(list_of_lines):\n",
    "    guard_id = get_guard_id(list_of_lines[0])\n",
    "    return {guard_id: list_of_lines[1:]}\n",
    "    \n",
    "assign_timings_to_guard_id(['#773 begins shift', '03-31 00:17 falls asleep', '03-31 00:42 wakes up'])"
   ]
  },
  {
   "cell_type": "code",
   "execution_count": 114,
   "metadata": {},
   "outputs": [],
   "source": [
    "list_of_sleeping_guard_timings = []\n",
    "for string in ted_strings:\n",
    "    list_of_sleeping_guard_timings.append(assign_timings_to_guard_id(string))\n",
    "\n",
    "# for item in list_of_sleeping_guard_timings:\n",
    "#     print(item)"
   ]
  },
  {
   "cell_type": "code",
   "execution_count": 104,
   "metadata": {},
   "outputs": [
    {
     "data": {
      "text/plain": [
       "[('04-15', 10, 19), ('04-15', 22, 56)]"
      ]
     },
     "execution_count": 104,
     "metadata": {},
     "output_type": "execute_result"
    }
   ],
   "source": [
    "def get_sleep_timings(list_of_strings):\n",
    "    inner_list = []\n",
    "    for strings in batch_gen(list_of_strings, 2):\n",
    "        if \"falls asleep\" in strings[0]:\n",
    "            day, minutes_s = get_minutes(strings[0])\n",
    "#             print(minutes_s)\n",
    "        if \"wakes up\" in strings[1]:\n",
    "            day, minutes_e = get_minutes(strings[1])\n",
    "#             print(minutes_e)\n",
    "        inner_list.append((day, int(minutes_s), int(minutes_e)))\n",
    "    return inner_list\n",
    "\n",
    "def batch_gen(data, batch_size):\n",
    "    for i in range(0, len(data), batch_size):\n",
    "            yield data[i : i + batch_size]\n",
    "            \n",
    "def get_minutes(line):\n",
    "    timings = line.split()\n",
    "    day = timings[0]\n",
    "    hour = timings[1]\n",
    "    minutes = hour.split(\":\")[1]\n",
    "    return day, minutes\n",
    "\n",
    "get_sleep_timings(['04-15 00:10 falls asleep', '04-15 00:19 wakes up', '04-15 00:22 falls asleep', '04-15 00:56 wakes up'])"
   ]
  },
  {
   "cell_type": "code",
   "execution_count": 132,
   "metadata": {},
   "outputs": [],
   "source": [
    "guard_sleep_timings = {}\n",
    "for l in list_of_sleeping_guard_timings:\n",
    "    for k, v in l.items():\n",
    "        if len(v) % 2 == 0:\n",
    "            if k not in guard_sleep_timings.keys():\n",
    "                guard_sleep_timings[k] = get_sleep_timings(v)\n",
    "            elif k in guard_sleep_timings.keys():\n",
    "                guard_sleep_timings[k] += get_sleep_timings(v)\n",
    "        else:\n",
    "            print(\"------PROBLEM-----\")\n",
    "            \n",
    "# print(guard_sleep_timings)\n",
    "\n",
    "def get_sleep_duration(tuple_sleep):\n",
    "    day, s, e = tuple_sleep\n",
    "    if e > s:\n",
    "        return e - s\n",
    "# print(get_sleep_duration(('10-15', 17, 23)))"
   ]
  },
  {
   "cell_type": "code",
   "execution_count": 131,
   "metadata": {},
   "outputs": [
    {
     "data": {
      "text/plain": [
       "482"
      ]
     },
     "execution_count": 131,
     "metadata": {},
     "output_type": "execute_result"
    }
   ],
   "source": [
    "guards_sleep_dur = {}\n",
    "for k, v in guard_sleep_timings.items():\n",
    "    duration = 0\n",
    "    if len(v) > 0:\n",
    "        for item in v:\n",
    "            duration += get_sleep_duration(item)\n",
    "    if duration != 0:\n",
    "        guards_sleep_dur[k] = duration\n",
    "\n",
    "max_sleeping_minutes = 0\n",
    "for k, v in guards_sleep_dur.items():\n",
    "    if v > max_sleeping_minutes:\n",
    "#         print(k)\n",
    "        max_sleeping_minutes = v\n",
    "# max_sleeping_minutes\n",
    "guards_sleep_dur['1217']"
   ]
  },
  {
   "cell_type": "markdown",
   "metadata": {},
   "source": [
    "from above analysis we came to know that `guard '1217'` has highest minutes of sleep"
   ]
  },
  {
   "cell_type": "code",
   "execution_count": 146,
   "metadata": {},
   "outputs": [
    {
     "name": "stdout",
     "output_type": "stream",
     "text": [
      "40\n"
     ]
    }
   ],
   "source": [
    "# print(guard_sleep_timings['1217'])\n",
    "sleep_day = {}\n",
    "for i in guard_sleep_timings['1217']:\n",
    "    day, s, e = i\n",
    "    inner_list = []\n",
    "    for i in range(s, e):\n",
    "        inner_list.append(i)\n",
    "    if day not in sleep_day.keys():\n",
    "        sleep_day[day] = inner_list\n",
    "    elif day in sleep_day.keys():\n",
    "        sleep_day[day] += inner_list\n",
    "\n",
    "list_of_sets = []\n",
    "for k, v in sleep_day.items():\n",
    "    list_of_sets += v\n",
    "\n",
    "# print(list_of_sets)\n",
    "from collections import Counter\n",
    "\n",
    "def get_most_common(list_of_sets):\n",
    "    data = Counter(list_of_sets)\n",
    "    return max(list_of_sets, key=data.get)\n",
    "\n",
    "print(get_most_common(list_of_sets))"
   ]
  },
  {
   "cell_type": "markdown",
   "metadata": {},
   "source": [
    "so `40` minute is the most_common minute by `1217`"
   ]
  },
  {
   "cell_type": "code",
   "execution_count": 147,
   "metadata": {},
   "outputs": [
    {
     "name": "stdout",
     "output_type": "stream",
     "text": [
      "48680\n"
     ]
    }
   ],
   "source": [
    "print(1217 * 40)"
   ]
  },
  {
   "cell_type": "markdown",
   "metadata": {},
   "source": [
    "## Part two"
   ]
  },
  {
   "cell_type": "markdown",
   "metadata": {},
   "source": [
    "Strategy 2: Of all guards, which guard is most frequently asleep on the same minute?\n",
    "\n",
    "In the example above, Guard #99 spent minute 45 asleep more than any other guard or minute - three times in total. (In all other cases, any guard spent any minute asleep at most twice.)"
   ]
  },
  {
   "cell_type": "code",
   "execution_count": 165,
   "metadata": {},
   "outputs": [
    {
     "name": "stdout",
     "output_type": "stream",
     "text": [
      "773 (33, 9)\n",
      "2963 (35, 12)\n",
      "643 (43, 8)\n",
      "1129 (20, 6)\n",
      "101 (42, 11)\n",
      "811 (44, 6)\n",
      "449 (38, 7)\n",
      "1049 (36, 10)\n",
      "613 (45, 8)\n",
      "3023 (12, 7)\n",
      "197 (22, 6)\n",
      "2297 (48, 10)\n",
      "353 (51, 5)\n",
      "2333 (53, 8)\n",
      "1117 (50, 6)\n",
      "1657 (10, 3)\n",
      "1217 (40, 16)\n",
      "2789 (34, 17)\n",
      "3163 (18, 5)\n",
      "277 (43, 10)\n"
     ]
    }
   ],
   "source": [
    "guard_minutes = {}\n",
    "for k, v in guard_sleep_timings.items():\n",
    "    inner_list = []\n",
    "    for item_tuple in v:\n",
    "        day, s, e = item_tuple\n",
    "        i_list = []\n",
    "        for i in range(s, e):\n",
    "            i_list.append(i)\n",
    "        inner_list += i_list\n",
    "    guard_minutes[k] = inner_list\n",
    "#     print(k, inner_list)\n",
    "\n",
    "dict_most_common = {}\n",
    "for k, v in guard_minutes.items():\n",
    "    if len(v) > 0:\n",
    "        data = Counter(v)\n",
    "        most_common = max(v, key=data.get)\n",
    "        most_common_count = dict(data)[most_common]\n",
    "        dict_most_common[k] = (most_common, most_common_count)\n",
    "        \n",
    "for k, v in dict_most_common.items():\n",
    "    print(k, v)"
   ]
  },
  {
   "cell_type": "markdown",
   "metadata": {},
   "source": [
    "from above we can say that guard `2789` slept `17` times on `34` minute"
   ]
  },
  {
   "cell_type": "code",
   "execution_count": 166,
   "metadata": {},
   "outputs": [
    {
     "name": "stdout",
     "output_type": "stream",
     "text": [
      "94826\n"
     ]
    }
   ],
   "source": [
    "print(2789 * 34)"
   ]
  }
 ],
 "metadata": {
  "kernelspec": {
   "display_name": "Python 3",
   "language": "python",
   "name": "python3"
  },
  "language_info": {
   "codemirror_mode": {
    "name": "ipython",
    "version": 3
   },
   "file_extension": ".py",
   "mimetype": "text/x-python",
   "name": "python",
   "nbconvert_exporter": "python",
   "pygments_lexer": "ipython3",
   "version": "3.6.5"
  }
 },
 "nbformat": 4,
 "nbformat_minor": 2
}
