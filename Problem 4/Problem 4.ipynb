{
 "cells": [
  {
   "cell_type": "markdown",
   "metadata": {},
   "source": [
    "For example, consider the following records, which have already been organized into chronological order:\n",
    "\n",
    "```\n",
    "[1518-11-01 00:00] Guard #10 begins shift\n",
    "[1518-11-01 00:05] falls asleep\n",
    "[1518-11-01 00:25] wakes up\n",
    "[1518-11-01 00:30] falls asleep\n",
    "[1518-11-01 00:55] wakes up\n",
    "[1518-11-01 23:58] Guard #99 begins shift\n",
    "[1518-11-02 00:40] falls asleep\n",
    "[1518-11-02 00:50] wakes up\n",
    "[1518-11-03 00:05] Guard #10 begins shift\n",
    "[1518-11-03 00:24] falls asleep\n",
    "[1518-11-03 00:29] wakes up\n",
    "[1518-11-04 00:02] Guard #99 begins shift\n",
    "[1518-11-04 00:36] falls asleep\n",
    "[1518-11-04 00:46] wakes up\n",
    "[1518-11-05 00:03] Guard #99 begins shift\n",
    "[1518-11-05 00:45] falls asleep\n",
    "[1518-11-05 00:55] wakes up\n",
    "\n",
    "```\n",
    "\n",
    "Timestamps are written using year-month-day hour:minute format. The guard falling asleep or waking up is always the one whose shift most recently started. Because all asleep/awake times are during the midnight hour (00:00 - 00:59), only the minute portion (00 - 59) is relevant for those events.\n",
    "\n",
    "Visually, these records show that the guards are asleep at these times:\n",
    "\n",
    "```\n",
    "Date   ID   Minute\n",
    "            000000000011111111112222222222333333333344444444445555555555\n",
    "            012345678901234567890123456789012345678901234567890123456789\n",
    "11-01  #10  .....####################.....#########################.....\n",
    "11-02  #99  ........................................##########..........\n",
    "11-03  #10  ........................#####...............................\n",
    "11-04  #99  ....................................##########..............\n",
    "11-05  #99  .............................................##########.....\n",
    "```\n",
    "\n",
    "The columns are Date, which shows the month-day portion of the relevant day; ID, which shows the guard on duty that day; and Minute, which shows the minutes during which the guard was asleep within the midnight hour. (The Minute column's header shows the minute's ten's digit in the first row and the one's digit in the second row.) Awake is shown as ., and asleep is shown as #.\n",
    "\n",
    "Note that guards count as asleep on the minute they fall asleep, and they count as awake on the minute they wake up. For example, because Guard #10 wakes up at 00:25 on 1518-11-01, minute 25 is marked as awake.\n",
    "\n",
    "If you can figure out the guard most likely to be asleep at a specific time, you might be able to trick that guard into working tonight so you can have the best chance of sneaking in. You have two strategies for choosing the best guard/minute combination."
   ]
  },
  {
   "cell_type": "code",
   "execution_count": 1,
   "metadata": {},
   "outputs": [],
   "source": [
    "def read_input_file(filename):\n",
    "    with open(filename) as f:\n",
    "        for line in f:\n",
    "            yield line"
   ]
  },
  {
   "cell_type": "code",
   "execution_count": 5,
   "metadata": {},
   "outputs": [],
   "source": [
    "lines = []\n",
    "for line in read_input_file(\"input_4.txt\"):\n",
    "    lines.append(line)"
   ]
  },
  {
   "cell_type": "code",
   "execution_count": 18,
   "metadata": {},
   "outputs": [
    {
     "data": {
      "text/plain": [
       "['07-04 00:01', 'falls asleep']"
      ]
     },
     "execution_count": 18,
     "metadata": {},
     "output_type": "execute_result"
    }
   ],
   "source": [
    "def seperate_dates_n_strings(line):\n",
    "    string = line.split(\"] \")\n",
    "    date = string[0]\n",
    "    work = string[1].strip(\"\\n\")\n",
    "    date = date.strip(\"[\")\n",
    "    # removing year\n",
    "    date = date.split(\"-\", 1)[1] # splitting with first occurence of \"-\"\n",
    "    return [date, work]\n",
    "    \n",
    "seperate_dates_n_strings(\"[1518-07-04 00:01] falls asleep\")"
   ]
  },
  {
   "cell_type": "code",
   "execution_count": 167,
   "metadata": {},
   "outputs": [
    {
     "data": {
      "text/plain": [
       "['#613 begins shift', '11-23 00:47 falls asleep', '11-23 00:51 wakes up']"
      ]
     },
     "execution_count": 167,
     "metadata": {},
     "output_type": "execute_result"
    }
   ],
   "source": [
    "dates_n_works = []\n",
    "for line in lines:\n",
    "    dates_n_works.append(seperate_dates_n_strings(line))\n",
    "\n",
    "dates_n_works = sorted(dates_n_works, key=lambda x: x[0])\n",
    "# print(dates_n_works)\n",
    "seperation_string = \"\"\n",
    "for item in dates_n_works:\n",
    "    seperation_string += item[0] + \" \" + item[1] + \"\\n\"\n",
    "\n",
    "strings = seperation_string.split(\"Guard\")\n",
    "del strings[0]\n",
    "strings = [s.strip() for s in strings]\n",
    "\n",
    "ted_strings = []\n",
    "last_string = strings[len(strings) - 1]\n",
    "last_string = last_string.split(\"\\n\")\n",
    "for s in strings:\n",
    "    s = s.split(\"\\n\")\n",
    "    del s[len(s) - 1]\n",
    "    ted_strings.append(s)\n",
    "\n",
    "ted_strings.pop()\n",
    "ted_strings.append(last_string)\n",
    "ted_strings[len(ted_strings) - 1]\n",
    "\n",
    "# print(ted_strings)"
   ]
  },
  {
   "cell_type": "code",
   "execution_count": 74,
   "metadata": {},
   "outputs": [
    {
     "data": {
      "text/plain": [
       "{'773': ['03-31 00:17 falls asleep', '03-31 00:42 wakes up']}"
      ]
     },
     "execution_count": 74,
     "metadata": {},
     "output_type": "execute_result"
    }
   ],
   "source": [
    "import re\n",
    "\n",
    "def get_guard_id(line):\n",
    "    return re.findall(\"#[0-9]*\", line)[0].strip(\"#\")\n",
    "\n",
    "def assign_timings_to_guard_id(list_of_lines):\n",
    "    guard_id = get_guard_id(list_of_lines[0])\n",
    "    return {guard_id: list_of_lines[1:]}\n",
    "    \n",
    "assign_timings_to_guard_id(['#773 begins shift', '03-31 00:17 falls asleep', '03-31 00:42 wakes up'])"
   ]
  },
  {
   "cell_type": "code",
   "execution_count": 114,
   "metadata": {},
   "outputs": [],
   "source": [
    "list_of_sleeping_guard_timings = []\n",
    "for string in ted_strings:\n",
    "    list_of_sleeping_guard_timings.append(assign_timings_to_guard_id(string))\n",
    "\n",
    "# for item in list_of_sleeping_guard_timings:\n",
    "#     print(item)"
   ]
  },
  {
   "cell_type": "code",
   "execution_count": 104,
   "metadata": {},
   "outputs": [
    {
     "data": {
      "text/plain": [
       "[('04-15', 10, 19), ('04-15', 22, 56)]"
      ]
     },
     "execution_count": 104,
     "metadata": {},
     "output_type": "execute_result"
    }
   ],
   "source": [
    "def get_sleep_timings(list_of_strings):\n",
    "    inner_list = []\n",
    "    for strings in batch_gen(list_of_strings, 2):\n",
    "        if \"falls asleep\" in strings[0]:\n",
    "            day, minutes_s = get_minutes(strings[0])\n",
    "#             print(minutes_s)\n",
    "        if \"wakes up\" in strings[1]:\n",
    "            day, minutes_e = get_minutes(strings[1])\n",
    "#             print(minutes_e)\n",
    "        inner_list.append((day, int(minutes_s), int(minutes_e)))\n",
    "    return inner_list\n",
    "\n",
    "def batch_gen(data, batch_size):\n",
    "    for i in range(0, len(data), batch_size):\n",
    "            yield data[i : i + batch_size]\n",
    "            \n",
    "def get_minutes(line):\n",
    "    timings = line.split()\n",
    "    day = timings[0]\n",
    "    hour = timings[1]\n",
    "    minutes = hour.split(\":\")[1]\n",
    "    return day, minutes\n",
    "\n",
    "get_sleep_timings(['04-15 00:10 falls asleep', '04-15 00:19 wakes up', '04-15 00:22 falls asleep', '04-15 00:56 wakes up'])"
   ]
  },
  {
   "cell_type": "code",
   "execution_count": 132,
   "metadata": {},
   "outputs": [],
   "source": [
    "guard_sleep_timings = {}\n",
    "for l in list_of_sleeping_guard_timings:\n",
    "    for k, v in l.items():\n",
    "        if len(v) % 2 == 0:\n",
    "            if k not in guard_sleep_timings.keys():\n",
    "                guard_sleep_timings[k] = get_sleep_timings(v)\n",
    "            elif k in guard_sleep_timings.keys():\n",
    "                guard_sleep_timings[k] += get_sleep_timings(v)\n",
    "        else:\n",
    "            print(\"------PROBLEM-----\")\n",
    "            \n",
    "# print(guard_sleep_timings)\n",
    "\n",
    "def get_sleep_duration(tuple_sleep):\n",
    "    day, s, e = tuple_sleep\n",
    "    if e > s:\n",
    "        return e - s\n",
    "# print(get_sleep_duration(('10-15', 17, 23)))"
   ]
  },
  {
   "cell_type": "code",
   "execution_count": 131,
   "metadata": {},
   "outputs": [
    {
     "data": {
      "text/plain": [
       "482"
      ]
     },
     "execution_count": 131,
     "metadata": {},
     "output_type": "execute_result"
    }
   ],
   "source": [
    "guards_sleep_dur = {}\n",
    "for k, v in guard_sleep_timings.items():\n",
    "    duration = 0\n",
    "    if len(v) > 0:\n",
    "        for item in v:\n",
    "            duration += get_sleep_duration(item)\n",
    "    if duration != 0:\n",
    "        guards_sleep_dur[k] = duration\n",
    "\n",
    "max_sleeping_minutes = 0\n",
    "for k, v in guards_sleep_dur.items():\n",
    "    if v > max_sleeping_minutes:\n",
    "#         print(k)\n",
    "        max_sleeping_minutes = v\n",
    "# max_sleeping_minutes\n",
    "guards_sleep_dur['1217']"
   ]
  },
  {
   "cell_type": "markdown",
   "metadata": {},
   "source": [
    "from above analysis we came to know that `guard '1217'` has highest minutes of sleep"
   ]
  },
  {
   "cell_type": "code",
   "execution_count": 146,
   "metadata": {},
   "outputs": [
    {
     "name": "stdout",
     "output_type": "stream",
     "text": [
      "40\n"
     ]
    }
   ],
   "source": [
    "# print(guard_sleep_timings['1217'])\n",
    "sleep_day = {}\n",
    "for i in guard_sleep_timings['1217']:\n",
    "    day, s, e = i\n",
    "    inner_list = []\n",
    "    for i in range(s, e):\n",
    "        inner_list.append(i)\n",
    "    if day not in sleep_day.keys():\n",
    "        sleep_day[day] = inner_list\n",
    "    elif day in sleep_day.keys():\n",
    "        sleep_day[day] += inner_list\n",
    "\n",
    "list_of_sets = []\n",
    "for k, v in sleep_day.items():\n",
    "    list_of_sets += v\n",
    "\n",
    "# print(list_of_sets)\n",
    "from collections import Counter\n",
    "\n",
    "def get_most_common(list_of_sets):\n",
    "    data = Counter(list_of_sets)\n",
    "    return max(list_of_sets, key=data.get)\n",
    "\n",
    "print(get_most_common(list_of_sets))"
   ]
  },
  {
   "cell_type": "markdown",
   "metadata": {},
   "source": [
    "so `40` minute is the most_common minute by `1217`"
   ]
  },
  {
   "cell_type": "code",
   "execution_count": 147,
   "metadata": {},
   "outputs": [
    {
     "name": "stdout",
     "output_type": "stream",
     "text": [
      "48680\n"
     ]
    }
   ],
   "source": [
    "print(1217 * 40)"
   ]
  },
  {
   "cell_type": "markdown",
   "metadata": {},
   "source": [
    "## Part two"
   ]
  },
  {
   "cell_type": "markdown",
   "metadata": {},
   "source": [
    "Strategy 2: Of all guards, which guard is most frequently asleep on the same minute?\n",
    "\n",
    "In the example above, Guard #99 spent minute 45 asleep more than any other guard or minute - three times in total. (In all other cases, any guard spent any minute asleep at most twice.)"
   ]
  },
  {
   "cell_type": "code",
   "execution_count": 165,
   "metadata": {},
   "outputs": [
    {
     "name": "stdout",
     "output_type": "stream",
     "text": [
      "773 (33, 9)\n",
      "2963 (35, 12)\n",
      "643 (43, 8)\n",
      "1129 (20, 6)\n",
      "101 (42, 11)\n",
      "811 (44, 6)\n",
      "449 (38, 7)\n",
      "1049 (36, 10)\n",
      "613 (45, 8)\n",
      "3023 (12, 7)\n",
      "197 (22, 6)\n",
      "2297 (48, 10)\n",
      "353 (51, 5)\n",
      "2333 (53, 8)\n",
      "1117 (50, 6)\n",
      "1657 (10, 3)\n",
      "1217 (40, 16)\n",
      "2789 (34, 17)\n",
      "3163 (18, 5)\n",
      "277 (43, 10)\n"
     ]
    }
   ],
   "source": [
    "guard_minutes = {}\n",
    "for k, v in guard_sleep_timings.items():\n",
    "    inner_list = []\n",
    "    for item_tuple in v:\n",
    "        day, s, e = item_tuple\n",
    "        i_list = []\n",
    "        for i in range(s, e):\n",
    "            i_list.append(i)\n",
    "        inner_list += i_list\n",
    "    guard_minutes[k] = inner_list\n",
    "#     print(k, inner_list)\n",
    "\n",
    "dict_most_common = {}\n",
    "for k, v in guard_minutes.items():\n",
    "    if len(v) > 0:\n",
    "        data = Counter(v)\n",
    "        most_common = max(v, key=data.get)\n",
    "        most_common_count = dict(data)[most_common]\n",
    "        dict_most_common[k] = (most_common, most_common_count)\n",
    "        \n",
    "for k, v in dict_most_common.items():\n",
    "    print(k, v)"
   ]
  },
  {
   "cell_type": "markdown",
   "metadata": {},
   "source": [
    "from above we can say that guard `2789` slept `17` times on `34` minute"
   ]
  },
  {
   "cell_type": "code",
   "execution_count": 166,
   "metadata": {},
   "outputs": [
    {
     "name": "stdout",
     "output_type": "stream",
     "text": [
      "94826\n"
     ]
    }
   ],
   "source": [
    "print(2789 * 34)"
   ]
  }
 ],
 "metadata": {
  "kernelspec": {
   "display_name": "Python 3",
   "language": "python",
   "name": "python3"
  },
  "language_info": {
   "codemirror_mode": {
    "name": "ipython",
    "version": 3
   },
   "file_extension": ".py",
   "mimetype": "text/x-python",
   "name": "python",
   "nbconvert_exporter": "python",
   "pygments_lexer": "ipython3",
   "version": "3.6.5"
  }
 },
 "nbformat": 4,
 "nbformat_minor": 2
}
