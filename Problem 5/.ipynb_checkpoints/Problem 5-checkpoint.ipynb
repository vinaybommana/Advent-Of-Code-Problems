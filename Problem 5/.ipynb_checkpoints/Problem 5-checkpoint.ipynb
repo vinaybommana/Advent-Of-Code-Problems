{
 "cells": [
  {
   "cell_type": "markdown",
   "metadata": {},
   "source": [
    "The polymer is formed by smaller units which, when triggered, react with each other such that two adjacent units of the same type and opposite polarity are destroyed. Units' types are represented by letters; units' polarity is represented by capitalization. For instance, r and R are units with the same type but opposite polarity, whereas r and s are entirely different types and do not react.\n",
    "\n",
    "For example:\n",
    "\n",
    "    In aA, a and A react, leaving nothing behind.\n",
    "    In abBA, bB destroys itself, leaving aA. As above, this then destroys itself, leaving nothing.\n",
    "    In abAB, no two adjacent units are of the same type, and so nothing happens.\n",
    "    In aabAAB, even though aa and AA are of the same type, their polarities match, and so nothing happens.\n",
    "\n",
    "Now, consider a larger example, `dabAcCaCBAcCcaDA`:\n",
    "\n",
    "```\n",
    "dabAcCaCBAcCcaDA  The first 'cC' is removed.\n",
    "dabAaCBAcCcaDA    This creates 'Aa', which is removed.\n",
    "dabCBAcCcaDA      Either 'cC' or 'Cc' are removed (the result is the same).\n",
    "dabCBAcaDA        No further actions can be taken.\n",
    "```\n",
    "\n",
    "After all possible reactions, the resulting polymer contains 10 units.\n",
    "\n",
    "How many units remain after fully reacting the polymer you scanned?"
   ]
  },
  {
   "cell_type": "code",
   "execution_count": 1,
   "metadata": {},
   "outputs": [],
   "source": [
    "def get_input_from_file(filename):\n",
    "    with open(filename) as f:\n",
    "        for line in f:\n",
    "            yield line"
   ]
  },
  {
   "cell_type": "code",
   "execution_count": 37,
   "metadata": {},
   "outputs": [],
   "source": [
    "input_line = \"\"\n",
    "for line in get_input_from_file(\"input_5.txt\"):\n",
    "    input_line = line\n",
    "#     print(line)"
   ]
  },
  {
   "cell_type": "code",
   "execution_count": 12,
   "metadata": {},
   "outputs": [],
   "source": [
    "def check_letters(a, b):\n",
    "    if str(a).lower() == str(b).lower():\n",
    "        return True\n",
    "    return False"
   ]
  },
  {
   "cell_type": "code",
   "execution_count": 39,
   "metadata": {},
   "outputs": [],
   "source": [
    "import itertools\n",
    "# input_line = \"uUEeQqcCiVMlLhHmMmvlLIOBboARRrrabBzZEeKpPNnqMmQKTtkNGgAankEpPPpFfeDeEZzOojJXxtPpDTnNgGRgMmGrHhAaVzZUAauveEwWtdkOofFKXzZxudDLiIyhHYyYlgCcGUzQqNnoAaqQXxORuUYyrVvtTYQqyAaZT\"\n",
    "def pairwise(iterable):\n",
    "    \"s -> (s0,s1), (s1,s2), (s2, s3), ...\"\n",
    "    a, b = itertools.tee(iterable)\n",
    "    next(b, None)\n",
    "    return zip(a, b)\n",
    "\n",
    "iter_pair = pairwise(input_line)\n",
    "# next(iter_pair)\n",
    "\n",
    "# for c, n in iter_pair:\n",
    "#     print(c, n)\n",
    "\n",
    "# while len(input_line) > 0:\n",
    "#     print(len(input_line))\n",
    "#     reduced_line = \"\"\n",
    "#     for c, n in iter_pair:\n",
    "#         if check_letters(c, n):\n",
    "# #             print(c, n)\n",
    "#             next(iter_pair)\n",
    "#         else:\n",
    "#             reduced_line += c\n",
    "#             print(\"reduced_line: \" + reduced_line)\n",
    "#             print(\"c: \" + c)\n",
    "# #     print(\"input line: \" + input_line)\n",
    "# #     print(\"reduced_line: \" + reduced_line)\n",
    "#     print(len(reduced_line))\n",
    "#     input_line = reduced_line"
   ]
  }
 ],
 "metadata": {
  "kernelspec": {
   "display_name": "Python 3",
   "language": "python",
   "name": "python3"
  },
  "language_info": {
   "codemirror_mode": {
    "name": "ipython",
    "version": 3
   },
   "file_extension": ".py",
   "mimetype": "text/x-python",
   "name": "python",
   "nbconvert_exporter": "python",
   "pygments_lexer": "ipython3",
   "version": "3.6.5"
  }
 },
 "nbformat": 4,
 "nbformat_minor": 2
}
