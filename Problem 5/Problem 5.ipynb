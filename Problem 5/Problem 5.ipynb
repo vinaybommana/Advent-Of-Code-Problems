{
 "cells": [
  {
   "cell_type": "markdown",
   "metadata": {
    "ein.tags": "worksheet-0",
    "slideshow": {
     "slide_type": "-"
    }
   },
   "source": [
    "The polymer is formed by smaller units which, when triggered, react with each other such that two adjacent units of the same type and opposite polarity are destroyed. Units' types are represented by letters; units' polarity is represented by capitalization. For instance, r and R are units with the same type but opposite polarity, whereas r and s are entirely different types and do not react.\n",
    "\n",
    "For example:\n",
    "\n",
    "    In aA, a and A react, leaving nothing behind.\n",
    "    In abBA, bB destroys itself, leaving aA. As above, this then destroys itself, leaving nothing.\n",
    "    In abAB, no two adjacent units are of the same type, and so nothing happens.\n",
    "    In aabAAB, even though aa and AA are of the same type, their polarities match, and so nothing happens.\n",
    "\n",
    "Now, consider a larger example, `dabAcCaCBAcCcaDA`:\n",
    "\n",
    "```\n",
    "dabAcCaCBAcCcaDA  The first 'cC' is removed.\n",
    "dabAaCBAcCcaDA    This creates 'Aa', which is removed.\n",
    "dabCBAcCcaDA      Either 'cC' or 'Cc' are removed (the result is the same).\n",
    "dabCBAcaDA        No further actions can be taken.\n",
    "```\n",
    "\n",
    "After all possible reactions, the resulting polymer contains 10 units.\n",
    "\n",
    "How many units remain after fully reacting the polymer you scanned?"
   ]
  },
  {
   "cell_type": "code",
   "execution_count": 2,
   "metadata": {
    "autoscroll": false,
    "ein.hycell": false,
    "ein.tags": "worksheet-0",
    "slideshow": {
     "slide_type": "-"
    }
   },
   "outputs": [],
   "source": [
    "def get_input_from_file(filename):\n",
    "    with open(filename) as f:\n",
    "        for line in f:\n",
    "            yield line"
   ]
  },
  {
   "cell_type": "code",
   "execution_count": 36,
   "metadata": {
    "autoscroll": false,
    "ein.hycell": false,
    "ein.tags": "worksheet-0",
    "slideshow": {
     "slide_type": "-"
    }
   },
   "outputs": [],
   "source": [
    "input_line = \"\"\n",
    "for line in get_input_from_file(\"input_5.txt\"):\n",
    "    input_line = line\n",
    "#     print(line)"
   ]
  },
  {
   "cell_type": "code",
   "execution_count": 4,
   "metadata": {
    "autoscroll": false,
    "ein.hycell": false,
    "ein.tags": "worksheet-0",
    "slideshow": {
     "slide_type": "-"
    }
   },
   "outputs": [],
   "source": [
    "def check_letters(a, b):\n",
    "    if a == b:\n",
    "        return False\n",
    "    if str(a).lower() == str(b):\n",
    "        return True\n",
    "    elif str(a) == str(b).lower():\n",
    "        return True\n",
    "    return False\n",
    "\n",
    "# check_letters('A', 'A')\n",
    "# check_letters('a', 'A')\n",
    "# check_letters('A', 'a')\n",
    "# check_letters('a', 'a')"
   ]
  },
  {
   "cell_type": "code",
   "execution_count": 5,
   "metadata": {
    "autoscroll": false,
    "ein.hycell": false,
    "ein.tags": "worksheet-0",
    "slideshow": {
     "slide_type": "-"
    }
   },
   "outputs": [],
   "source": [
    "import itertools\n",
    "def pairwise(iterable):\n",
    "    \"s -> (s0,s1), (s1,s2), (s2, s3), ...\"\n",
    "    a, b = itertools.tee(iterable)\n",
    "    next(b, None)\n",
    "    return zip(a, b)\n",
    "\n",
    "iter_pair = pairwise(input_line)"
   ]
  },
  {
   "cell_type": "code",
   "execution_count": 22,
   "metadata": {
    "autoscroll": false,
    "ein.hycell": false,
    "ein.tags": "worksheet-0",
    "slideshow": {
     "slide_type": "-"
    }
   },
   "outputs": [
    {
     "name": "stdout",
     "output_type": "stream",
     "text": [
      "11242\n",
      "CPU times: user 9.64 s, sys: 1.78 ms, total: 9.64 s\n",
      "Wall time: 9.67 s\n"
     ]
    }
   ],
   "source": [
    "%%time\n",
    "# print(input_line)\n",
    "def find_length_of_reduced_polymer(input_line):\n",
    "    input_line = input_line + \"-\"\n",
    "    while len(input_line) > 0:\n",
    "        reduced_line = \"\"\n",
    "        iter_pair = pairwise(input_line)\n",
    "        for c, n in iter_pair:\n",
    "            if check_letters(c, n):\n",
    "                next(iter_pair)\n",
    "            else:\n",
    "                reduced_line += c\n",
    "        input_line = input_line[:len(input_line) - 1]\n",
    "        if input_line == reduced_line:\n",
    "            break\n",
    "        input_line = reduced_line + \"-\"\n",
    "\n",
    "    input_line = input_line.strip()\n",
    "    return len(input_line)\n",
    "\n",
    "        \n",
    "print(find_length_of_reduced_polymer(input_line))"
   ]
  },
  {
   "cell_type": "markdown",
   "metadata": {},
   "source": [
    "## Part two"
   ]
  },
  {
   "cell_type": "markdown",
   "metadata": {},
   "source": [
    "For example, again using the polymer dabAcCaCBAcCcaDA from above:\n",
    "\n",
    "    Removing all A/a units produces dbcCCBcCcD. Fully reacting this polymer produces dbCBcD, which has length 6.\n",
    "    Removing all B/b units produces daAcCaCAcCcaDA. Fully reacting this polymer produces daCAcaDA, which has length 8.\n",
    "    Removing all C/c units produces dabAaBAaDA. Fully reacting this polymer produces daDA, which has length 4.\n",
    "    Removing all D/d units produces abAcCaCBAcCcaA. Fully reacting this polymer produces abCBAc, which has length 6.\n",
    "\n",
    "In this example, removing all C/c units was best, producing the answer 4.\n",
    "\n",
    "What is the length of the shortest polymer you can produce by removing all units of exactly one type and fully reacting the result?"
   ]
  },
  {
   "cell_type": "code",
   "execution_count": 39,
   "metadata": {},
   "outputs": [
    {
     "name": "stdout",
     "output_type": "stream",
     "text": [
      "{'A': 10768, 'B': 10808, 'C': 10750, 'D': 10842, 'E': 10800, 'F': 10784, 'G': 10718, 'H': 10806, 'I': 10786, 'J': 10822, 'K': 10826, 'L': 10770, 'M': 10812, 'N': 10820, 'O': 10752, 'P': 10796, 'Q': 10776, 'R': 10832, 'S': 10816, 'T': 5492, 'U': 10804, 'V': 10826, 'W': 10754, 'X': 10836, 'Y': 10752, 'Z': 10768}\n"
     ]
    }
   ],
   "source": [
    "from string import ascii_uppercase as up_case_string\n",
    "# print(len(input_line))\n",
    "character_n_length_of_reduced_polymer = {}\n",
    "for c in list(up_case_string):\n",
    "    duplicate_line = input_line\n",
    "    duplicate_line = duplicate_line.replace(c, \"\")\n",
    "    duplicate_line = duplicate_line.replace(c.lower(), \"\")\n",
    "    character_n_length_of_reduced_polymer[c] = find_length_of_reduced_polymer(duplicate_line)\n",
    "#     print(len(duplicate_line))\n",
    "\n",
    "# print(character_n_length_of_reduced_polymer)"
   ]
  },
  {
   "cell_type": "markdown",
   "metadata": {},
   "source": [
    "Thus we can say that by removing `T`, we can get shortest polymer of length `5492`"
   ]
  },
  {
   "cell_type": "code",
   "execution_count": 42,
   "metadata": {},
   "outputs": [
    {
     "name": "stdout",
     "output_type": "stream",
     "text": [
      "T 5492\n"
     ]
    }
   ],
   "source": [
    "# print(character_n_length_of_reduced_polymer)\n",
    "for k, v in character_n_length_of_reduced_polymer.items():\n",
    "    if v == min(character_n_length_of_reduced_polymer.values()):\n",
    "        print(k, v)"
   ]
  }
 ],
 "metadata": {
  "kernelspec": {
   "display_name": "Python 3",
   "language": "python",
   "name": "python3"
  },
  "language_info": {
   "codemirror_mode": {
    "name": "ipython",
    "version": 3
   },
   "file_extension": ".py",
   "mimetype": "text/x-python",
   "name": "python",
   "nbconvert_exporter": "python",
   "pygments_lexer": "ipython3",
   "version": "3.7.1"
  },
  "name": "Problem 5.ipynb"
 },
 "nbformat": 4,
 "nbformat_minor": 2
}
