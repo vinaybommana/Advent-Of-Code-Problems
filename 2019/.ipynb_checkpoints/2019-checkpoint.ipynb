{
 "cells": [
  {
   "cell_type": "markdown",
   "metadata": {},
   "source": [
    "# Advent of Code Problems 2019"
   ]
  },
  {
   "cell_type": "markdown",
   "metadata": {},
   "source": [
    "## Problem 1"
   ]
  },
  {
   "cell_type": "code",
   "execution_count": 22,
   "metadata": {},
   "outputs": [],
   "source": [
    "def read_problem_input(file_name: str):\n",
    "    output = []\n",
    "    with open(f\"input/{file_name}\") as o:\n",
    "        output = o.readlines()\n",
    "        output = [i.strip() for i in output]\n",
    "    return output"
   ]
  },
  {
   "cell_type": "code",
   "execution_count": 23,
   "metadata": {},
   "outputs": [],
   "source": [
    "\"\"\" Part One \"\"\"\n",
    "\n",
    "# problem one part 1\n",
    "# clean the input\n",
    "problem_one_input = read_problem_input(\"problem_one.txt\")\n",
    "problem_one_input = [int(i) for i in problem_one_input]\n",
    "# problem_one_input"
   ]
  },
  {
   "cell_type": "code",
   "execution_count": 27,
   "metadata": {},
   "outputs": [
    {
     "name": "stdout",
     "output_type": "stream",
     "text": [
      "2\n",
      "3550236\n"
     ]
    }
   ],
   "source": [
    "from typing import List\n",
    "def calculate_fuel(mass: int):\n",
    "    return int(mass / 3) - 2\n",
    "\n",
    "# print(calculate_fuel(12))\n",
    "assert calculate_fuel(12) == 2\n",
    "\n",
    "def total_fuel_requirement(input_list: List):\n",
    "    input_list = [(int(i/3) - 2) for i in input_list]\n",
    "    return sum(input_list)\n",
    "\n",
    "print(total_fuel_requirement(problem_one_input))"
   ]
  },
  {
   "cell_type": "code",
   "execution_count": 30,
   "metadata": {},
   "outputs": [],
   "source": [
    "# problem one part two\n",
    "def fuel_of_fuel(mass: int):\n",
    "    total_fuel = 0\n",
    "    while calculate_fuel(mass) > 0:\n",
    "        total_fuel += calculate_fuel(mass)\n",
    "        mass = calculate_fuel(mass)\n",
    "    return total_fuel\n",
    "assert fuel_of_fuel(14) == 2\n",
    "assert fuel_of_fuel(1969) == 966"
   ]
  },
  {
   "cell_type": "code",
   "execution_count": 31,
   "metadata": {},
   "outputs": [
    {
     "data": {
      "text/plain": [
       "5322455"
      ]
     },
     "execution_count": 31,
     "metadata": {},
     "output_type": "execute_result"
    }
   ],
   "source": [
    "def fuel_required(input_list: List):\n",
    "    input_list = map(fuel_of_fuel, input_list)\n",
    "    return sum(input_list)\n",
    "fuel_required(problem_one_input)"
   ]
  },
  {
   "cell_type": "markdown",
   "metadata": {},
   "source": [
    "## Problem 2"
   ]
  },
  {
   "cell_type": "code",
   "execution_count": null,
   "metadata": {},
   "outputs": [],
   "source": [
    "\"\"\" Problem Two \"\"\""
   ]
  }
 ],
 "metadata": {
  "kernelspec": {
   "display_name": "Python 3",
   "language": "python",
   "name": "python3"
  },
  "language_info": {
   "codemirror_mode": {
    "name": "ipython",
    "version": 3
   },
   "file_extension": ".py",
   "mimetype": "text/x-python",
   "name": "python",
   "nbconvert_exporter": "python",
   "pygments_lexer": "ipython3",
   "version": "3.7.3"
  }
 },
 "nbformat": 4,
 "nbformat_minor": 2
}
