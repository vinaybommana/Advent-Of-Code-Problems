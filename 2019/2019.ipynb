{
 "cells": [
  {
   "cell_type": "markdown",
   "metadata": {},
   "source": [
    "# Advent of Code Problems 2019"
   ]
  },
  {
   "cell_type": "markdown",
   "metadata": {},
   "source": [
    "## Problem 1"
   ]
  },
  {
   "cell_type": "code",
   "execution_count": 22,
   "metadata": {},
   "outputs": [],
   "source": [
    "def read_problem_input(file_name: str):\n",
    "    output = []\n",
    "    with open(f\"input/{file_name}\") as o:\n",
    "        output = o.readlines()\n",
    "        output = [i.strip() for i in output]\n",
    "    return output"
   ]
  },
  {
   "cell_type": "code",
   "execution_count": 23,
   "metadata": {},
   "outputs": [],
   "source": [
    "\"\"\" Part One \"\"\"\n",
    "\n",
    "# problem one part 1\n",
    "# clean the input\n",
    "problem_one_input = read_problem_input(\"problem_one.txt\")\n",
    "problem_one_input = [int(i) for i in problem_one_input]\n",
    "# problem_one_input"
   ]
  },
  {
   "cell_type": "code",
   "execution_count": 27,
   "metadata": {},
   "outputs": [
    {
     "name": "stdout",
     "output_type": "stream",
     "text": [
      "2\n",
      "3550236\n"
     ]
    }
   ],
   "source": [
    "from typing import List\n",
    "def calculate_fuel(mass: int):\n",
    "    return int(mass / 3) - 2\n",
    "\n",
    "# print(calculate_fuel(12))\n",
    "assert calculate_fuel(12) == 2\n",
    "\n",
    "def total_fuel_requirement(input_list: List):\n",
    "    input_list = [(int(i/3) - 2) for i in input_list]\n",
    "    return sum(input_list)\n",
    "\n",
    "print(total_fuel_requirement(problem_one_input))"
   ]
  },
  {
   "cell_type": "code",
   "execution_count": 30,
   "metadata": {},
   "outputs": [],
   "source": [
    "# problem one part two\n",
    "def fuel_of_fuel(mass: int):\n",
    "    total_fuel = 0\n",
    "    while calculate_fuel(mass) > 0:\n",
    "        total_fuel += calculate_fuel(mass)\n",
    "        mass = calculate_fuel(mass)\n",
    "    return total_fuel\n",
    "assert fuel_of_fuel(14) == 2\n",
    "assert fuel_of_fuel(1969) == 966"
   ]
  },
  {
   "cell_type": "code",
   "execution_count": 31,
   "metadata": {},
   "outputs": [
    {
     "data": {
      "text/plain": [
       "5322455"
      ]
     },
     "execution_count": 31,
     "metadata": {},
     "output_type": "execute_result"
    }
   ],
   "source": [
    "def fuel_required(input_list: List):\n",
    "    input_list = map(fuel_of_fuel, input_list)\n",
    "    return sum(input_list)\n",
    "fuel_required(problem_one_input)"
   ]
  },
  {
   "cell_type": "markdown",
   "metadata": {},
   "source": [
    "## Problem 2"
   ]
  },
  {
   "cell_type": "code",
   "execution_count": 33,
   "metadata": {},
   "outputs": [
    {
     "name": "stdout",
     "output_type": "stream",
     "text": [
      "['1,0,0,3,1,1,2,3,1,3,4,3,1,5,0,3,2,1,6,19,2,19,6,23,1,23,5,27,1,9,27,31,1,31,10,35,2,35,9,39,1,5,39,43,2,43,9,47,1,5,47,51,2,51,13,55,1,55,10,59,1,59,10,63,2,9,63,67,1,67,5,71,2,13,71,75,1,75,10,79,1,79,6,83,2,13,83,87,1,87,6,91,1,6,91,95,1,10,95,99,2,99,6,103,1,103,5,107,2,6,107,111,1,10,111,115,1,115,5,119,2,6,119,123,1,123,5,127,2,127,6,131,1,131,5,135,1,2,135,139,1,139,13,0,99,2,0,14,0']\n"
     ]
    }
   ],
   "source": [
    "\"\"\" Problem Two \"\"\"\n",
    "problem_two_input = read_problem_input(\"problem_two.txt\")\n",
    "print(problem_two_input)"
   ]
  },
  {
   "cell_type": "code",
   "execution_count": 46,
   "metadata": {},
   "outputs": [
    {
     "name": "stdout",
     "output_type": "stream",
     "text": [
      "[1, 0, 0, 3, 1, 1, 2, 3, 1, 3, 4, 3, 1, 5, 0, 3, 2, 1, 6, 19, 2, 19, 6, 23, 1, 23, 5, 27, 1, 9, 27, 31, 1, 31, 10, 35, 2, 35, 9, 39, 1, 5, 39, 43, 2, 43, 9, 47, 1, 5, 47, 51, 2, 51, 13, 55, 1, 55, 10, 59, 1, 59, 10, 63, 2, 9, 63, 67, 1, 67, 5, 71, 2, 13, 71, 75, 1, 75, 10, 79, 1, 79, 6, 83, 2, 13, 83, 87, 1, 87, 6, 91, 1, 6, 91, 95, 1, 10, 95, 99, 2, 99, 6, 103, 1, 103, 5, 107, 2, 6, 107, 111, 1, 10, 111, 115, 1, 115, 5, 119, 2, 6, 119, 123, 1, 123, 5, 127, 2, 127, 6, 131, 1, 131, 5, 135, 1, 2, 135, 139, 1, 139, 13, 0, 99, 2, 0, 14, 0]\n"
     ]
    }
   ],
   "source": [
    "op_code = problem_two_input[0]\n",
    "def clean_op_code(code: str):\n",
    "    code = code.split(\",\")\n",
    "    code = list(map(int, code))\n",
    "    return code\n",
    "\n",
    "print(clean_op_code(op_code))"
   ]
  },
  {
   "cell_type": "code",
   "execution_count": 56,
   "metadata": {},
   "outputs": [
    {
     "name": "stdout",
     "output_type": "stream",
     "text": [
      "[1, 12, 2, 3, 1, 1, 2, 3, 1, 3, 4, 3, 1, 5, 0, 3, 2, 1, 6, 19, 2, 19, 6, 23, 1, 23, 5, 27, 1, 9, 27, 31, 1, 31, 10, 35, 2, 35, 9, 39, 1, 5, 39, 43, 2, 43, 9, 47, 1, 5, 47, 51, 2, 51, 13, 55, 1, 55, 10, 59, 1, 59, 10, 63, 2, 9, 63, 67, 1, 67, 5, 71, 2, 13, 71, 75, 1, 75, 10, 79, 1, 79, 6, 83, 2, 13, 83, 87, 1, 87, 6, 91, 1, 6, 91, 95, 1, 10, 95, 99, 2, 99, 6, 103, 1, 103, 5, 107, 2, 6, 107, 111, 1, 10, 111, 115, 1, 115, 5, 119, 2, 6, 119, 123, 1, 123, 5, 127, 2, 127, 6, 131, 1, 131, 5, 135, 1, 2, 135, 139, 1, 139, 13, 0, 99, 2, 0, 14, 0]\n"
     ]
    }
   ],
   "source": [
    "# 1202 program alarm\n",
    "\n",
    "def correct_op_code(op_code: List, noun: int, verb: int):\n",
    "    op_code[1] = noun\n",
    "    op_code[2] = verb\n",
    "    return op_code\n",
    "print(correct_op_code(clean_op_code(problem_two_input[0]), 12, 2))"
   ]
  },
  {
   "cell_type": "code",
   "execution_count": 57,
   "metadata": {},
   "outputs": [
    {
     "data": {
      "text/plain": [
       "3058646"
      ]
     },
     "execution_count": 57,
     "metadata": {},
     "output_type": "execute_result"
    }
   ],
   "source": [
    "def op_code_processor(input_op_code: List):\n",
    "    i = 0\n",
    "    while True:\n",
    "        sub_code = input_op_code[i]\n",
    "        if sub_code == 99:\n",
    "            break\n",
    "        else:\n",
    "            place_1 = input_op_code[i+1]\n",
    "            place_2 = input_op_code[i+2]\n",
    "            place_3 = input_op_code[i+3]\n",
    "            if sub_code == 1:\n",
    "                # add\n",
    "                input_op_code[place_3] = input_op_code[place_1] + input_op_code[place_2]\n",
    "            if sub_code == 2:\n",
    "                # multiply\n",
    "                input_op_code[place_3] = input_op_code[place_1] * input_op_code[place_2]\n",
    "        i += 4\n",
    "    return input_op_code[0]\n",
    "\n",
    "# print(clean_op_code('1,9,10,3,2,3,11,0,99,30,40,50'))\n",
    "assert op_code_processor(clean_op_code('1,9,10,3,2,3,11,0,99,30,40,50')) == 3500\n",
    "assert op_code_processor(clean_op_code('1,0,0,0,99')) == 2\n",
    "assert op_code_processor(clean_op_code('2,3,0,3,99')) == 2\n",
    "assert op_code_processor(clean_op_code('1,1,1,4,99,5,6,0,99')) == 30\n",
    "\n",
    "# op_code_processor(corrected_op_code_int)\n",
    "op_code_processor(correct_op_code(clean_op_code(problem_two_input[0]), 12, 2))"
   ]
  },
  {
   "cell_type": "code",
   "execution_count": 59,
   "metadata": {},
   "outputs": [
    {
     "name": "stdout",
     "output_type": "stream",
     "text": [
      "8976\n"
     ]
    }
   ],
   "source": [
    "# problem 2 part two\n",
    "def noun_n_verb_finder():\n",
    "    for i in range(1, 100):\n",
    "        for j in range(1, 100):\n",
    "            if op_code_processor(correct_op_code(clean_op_code(problem_two_input[0]), i, j)) == 19690720:\n",
    "                return i, j\n",
    "noun, verb = noun_n_verb_finder()\n",
    "print((100*noun) + verb)\n"
   ]
  }
 ],
 "metadata": {
  "kernelspec": {
   "display_name": "Python 3",
   "language": "python",
   "name": "python3"
  },
  "language_info": {
   "codemirror_mode": {
    "name": "ipython",
    "version": 3
   },
   "file_extension": ".py",
   "mimetype": "text/x-python",
   "name": "python",
   "nbconvert_exporter": "python",
   "pygments_lexer": "ipython3",
   "version": "3.7.3"
  }
 },
 "nbformat": 4,
 "nbformat_minor": 2
}
